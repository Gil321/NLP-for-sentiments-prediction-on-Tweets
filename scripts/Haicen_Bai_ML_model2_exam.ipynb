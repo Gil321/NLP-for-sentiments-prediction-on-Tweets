{
 "cells": [
  {
   "cell_type": "code",
   "execution_count": 3,
   "id": "b3f78813",
   "metadata": {},
   "outputs": [],
   "source": [
    "%run setup.ipynb"
   ]
  },
  {
   "cell_type": "markdown",
   "id": "a2596c3c",
   "metadata": {},
   "source": [
    "# Data preprocessing\n",
    "\n",
    "- data withdraw\n",
    "- text cleaning (normalization)\n",
    "  - lower casing\n",
    "  - removal of URL's\n",
    "  - removal of special symbols\n",
    "  - removal of hashing\n",
    "  - remove stop words\n",
    "- lemmatizaion\n",
    "- stemming"
   ]
  },
  {
   "cell_type": "markdown",
   "id": "3c927521",
   "metadata": {},
   "source": [
    "#### Import package 'NLTK' for building Python programs to work with human language data\n",
    "#### Import package 'NUMPY','PANDAS' for processing the original data\n",
    "#### Import package 'RE' to regular expression matching operations"
   ]
  },
  {
   "cell_type": "code",
   "execution_count": 4,
   "id": "63b46277",
   "metadata": {},
   "outputs": [
    {
     "name": "stderr",
     "output_type": "stream",
     "text": [
      "[nltk_data] Downloading package stopwords to\n",
      "[nltk_data]     /Users/baihaicen/nltk_data...\n",
      "[nltk_data]   Package stopwords is already up-to-date!\n",
      "[nltk_data] Downloading package wordnet to\n",
      "[nltk_data]     /Users/baihaicen/nltk_data...\n",
      "[nltk_data]   Package wordnet is already up-to-date!\n"
     ]
    }
   ],
   "source": [
    "import nltk\n",
    "nltk.download('stopwords')\n",
    "nltk.download('wordnet')\n",
    "from nltk.corpus import stopwords\n",
    "from nltk.stem.porter import PorterStemmer \n",
    "from nltk.stem.snowball import SnowballStemmer\n",
    "from nltk.stem.wordnet import WordNetLemmatizer\n",
    "import pandas as pd\n",
    "import numpy as np\n",
    "import re\n",
    "\n",
    "import string"
   ]
  },
  {
   "cell_type": "markdown",
   "id": "326cf19a",
   "metadata": {},
   "source": [
    "#### Creat two dataframes to withdraw train data and test data"
   ]
  },
  {
   "cell_type": "markdown",
   "id": "6b84322e",
   "metadata": {},
   "source": [
    "**Note** : Default format 'utf-8' codec can not decode byte 0xc2 in the train data,\n",
    "           here select 'latin-1' as continuation byte"
   ]
  },
  {
   "cell_type": "code",
   "execution_count": 5,
   "id": "95e95045",
   "metadata": {
    "scrolled": true
   },
   "outputs": [
    {
     "data": {
      "text/html": [
       "<div>\n",
       "<style scoped>\n",
       "    .dataframe tbody tr th:only-of-type {\n",
       "        vertical-align: middle;\n",
       "    }\n",
       "\n",
       "    .dataframe tbody tr th {\n",
       "        vertical-align: top;\n",
       "    }\n",
       "\n",
       "    .dataframe thead th {\n",
       "        text-align: right;\n",
       "    }\n",
       "</style>\n",
       "<table border=\"1\" class=\"dataframe\">\n",
       "  <thead>\n",
       "    <tr style=\"text-align: right;\">\n",
       "      <th></th>\n",
       "      <th>UserName</th>\n",
       "      <th>ScreenName</th>\n",
       "      <th>Location</th>\n",
       "      <th>TweetAt</th>\n",
       "      <th>OriginalTweet</th>\n",
       "      <th>Sentiment</th>\n",
       "    </tr>\n",
       "  </thead>\n",
       "  <tbody>\n",
       "    <tr>\n",
       "      <th>0</th>\n",
       "      <td>3799</td>\n",
       "      <td>48751</td>\n",
       "      <td>London</td>\n",
       "      <td>16-03-2020</td>\n",
       "      <td>@MeNyrbie @Phil_Gahan @Chrisitv https://t.co/i...</td>\n",
       "      <td>Neutral</td>\n",
       "    </tr>\n",
       "    <tr>\n",
       "      <th>1</th>\n",
       "      <td>3800</td>\n",
       "      <td>48752</td>\n",
       "      <td>UK</td>\n",
       "      <td>16-03-2020</td>\n",
       "      <td>advice Talk to your neighbours family to excha...</td>\n",
       "      <td>Positive</td>\n",
       "    </tr>\n",
       "    <tr>\n",
       "      <th>2</th>\n",
       "      <td>3801</td>\n",
       "      <td>48753</td>\n",
       "      <td>Vagabonds</td>\n",
       "      <td>16-03-2020</td>\n",
       "      <td>Coronavirus Australia: Woolworths to give elde...</td>\n",
       "      <td>Positive</td>\n",
       "    </tr>\n",
       "    <tr>\n",
       "      <th>3</th>\n",
       "      <td>3802</td>\n",
       "      <td>48754</td>\n",
       "      <td>NaN</td>\n",
       "      <td>16-03-2020</td>\n",
       "      <td>My food stock is not the only one which is emp...</td>\n",
       "      <td>Positive</td>\n",
       "    </tr>\n",
       "    <tr>\n",
       "      <th>4</th>\n",
       "      <td>3803</td>\n",
       "      <td>48755</td>\n",
       "      <td>NaN</td>\n",
       "      <td>16-03-2020</td>\n",
       "      <td>Me, ready to go at supermarket during the #COV...</td>\n",
       "      <td>Extremely Negative</td>\n",
       "    </tr>\n",
       "  </tbody>\n",
       "</table>\n",
       "</div>"
      ],
      "text/plain": [
       "   UserName  ScreenName   Location     TweetAt  \\\n",
       "0      3799       48751     London  16-03-2020   \n",
       "1      3800       48752         UK  16-03-2020   \n",
       "2      3801       48753  Vagabonds  16-03-2020   \n",
       "3      3802       48754        NaN  16-03-2020   \n",
       "4      3803       48755        NaN  16-03-2020   \n",
       "\n",
       "                                       OriginalTweet           Sentiment  \n",
       "0  @MeNyrbie @Phil_Gahan @Chrisitv https://t.co/i...             Neutral  \n",
       "1  advice Talk to your neighbours family to excha...            Positive  \n",
       "2  Coronavirus Australia: Woolworths to give elde...            Positive  \n",
       "3  My food stock is not the only one which is emp...            Positive  \n",
       "4  Me, ready to go at supermarket during the #COV...  Extremely Negative  "
      ]
     },
     "execution_count": 5,
     "metadata": {},
     "output_type": "execute_result"
    }
   ],
   "source": [
    "train = pd.read_csv(f\"{DATA_PATH}/Corona_NLP_train.csv\", encoding='latin-1')\n",
    "train.head()"
   ]
  },
  {
   "cell_type": "markdown",
   "id": "057f5f48",
   "metadata": {},
   "source": [
    "Dispaly train data, 6 columns (attributes) in the dataframe. Focus on 'OriginalTweet'"
   ]
  },
  {
   "cell_type": "code",
   "execution_count": 6,
   "id": "23b65bba",
   "metadata": {
    "scrolled": true
   },
   "outputs": [
    {
     "data": {
      "text/html": [
       "<div>\n",
       "<style scoped>\n",
       "    .dataframe tbody tr th:only-of-type {\n",
       "        vertical-align: middle;\n",
       "    }\n",
       "\n",
       "    .dataframe tbody tr th {\n",
       "        vertical-align: top;\n",
       "    }\n",
       "\n",
       "    .dataframe thead th {\n",
       "        text-align: right;\n",
       "    }\n",
       "</style>\n",
       "<table border=\"1\" class=\"dataframe\">\n",
       "  <thead>\n",
       "    <tr style=\"text-align: right;\">\n",
       "      <th></th>\n",
       "      <th>UserName</th>\n",
       "      <th>ScreenName</th>\n",
       "      <th>Location</th>\n",
       "      <th>TweetAt</th>\n",
       "      <th>OriginalTweet</th>\n",
       "      <th>Sentiment</th>\n",
       "    </tr>\n",
       "  </thead>\n",
       "  <tbody>\n",
       "    <tr>\n",
       "      <th>0</th>\n",
       "      <td>1</td>\n",
       "      <td>44953</td>\n",
       "      <td>NYC</td>\n",
       "      <td>02-03-2020</td>\n",
       "      <td>TRENDING: New Yorkers encounter empty supermar...</td>\n",
       "      <td>Extremely Negative</td>\n",
       "    </tr>\n",
       "    <tr>\n",
       "      <th>1</th>\n",
       "      <td>2</td>\n",
       "      <td>44954</td>\n",
       "      <td>Seattle, WA</td>\n",
       "      <td>02-03-2020</td>\n",
       "      <td>When I couldn't find hand sanitizer at Fred Me...</td>\n",
       "      <td>Positive</td>\n",
       "    </tr>\n",
       "    <tr>\n",
       "      <th>2</th>\n",
       "      <td>3</td>\n",
       "      <td>44955</td>\n",
       "      <td>NaN</td>\n",
       "      <td>02-03-2020</td>\n",
       "      <td>Find out how you can protect yourself and love...</td>\n",
       "      <td>Extremely Positive</td>\n",
       "    </tr>\n",
       "    <tr>\n",
       "      <th>3</th>\n",
       "      <td>4</td>\n",
       "      <td>44956</td>\n",
       "      <td>Chicagoland</td>\n",
       "      <td>02-03-2020</td>\n",
       "      <td>#Panic buying hits #NewYork City as anxious sh...</td>\n",
       "      <td>Negative</td>\n",
       "    </tr>\n",
       "    <tr>\n",
       "      <th>4</th>\n",
       "      <td>5</td>\n",
       "      <td>44957</td>\n",
       "      <td>Melbourne, Victoria</td>\n",
       "      <td>03-03-2020</td>\n",
       "      <td>#toiletpaper #dunnypaper #coronavirus #coronav...</td>\n",
       "      <td>Neutral</td>\n",
       "    </tr>\n",
       "  </tbody>\n",
       "</table>\n",
       "</div>"
      ],
      "text/plain": [
       "   UserName  ScreenName             Location     TweetAt  \\\n",
       "0         1       44953                  NYC  02-03-2020   \n",
       "1         2       44954          Seattle, WA  02-03-2020   \n",
       "2         3       44955                  NaN  02-03-2020   \n",
       "3         4       44956          Chicagoland  02-03-2020   \n",
       "4         5       44957  Melbourne, Victoria  03-03-2020   \n",
       "\n",
       "                                       OriginalTweet           Sentiment  \n",
       "0  TRENDING: New Yorkers encounter empty supermar...  Extremely Negative  \n",
       "1  When I couldn't find hand sanitizer at Fred Me...            Positive  \n",
       "2  Find out how you can protect yourself and love...  Extremely Positive  \n",
       "3  #Panic buying hits #NewYork City as anxious sh...            Negative  \n",
       "4  #toiletpaper #dunnypaper #coronavirus #coronav...             Neutral  "
      ]
     },
     "execution_count": 6,
     "metadata": {},
     "output_type": "execute_result"
    }
   ],
   "source": [
    "test = pd.read_csv(f\"{DATA_PATH}/Corona_NLP_test.csv\")\n",
    "test.head()"
   ]
  },
  {
   "cell_type": "markdown",
   "id": "a74fbf01",
   "metadata": {},
   "source": [
    "Dispaly test data, 6 columns (attributes) in the dataframe. Focus on 'OriginalTweet'"
   ]
  },
  {
   "cell_type": "markdown",
   "id": "67a330c9",
   "metadata": {},
   "source": [
    "#### Combining both train data and test data as one dataframe for processing. Test data follows train data below. "
   ]
  },
  {
   "cell_type": "code",
   "execution_count": 7,
   "id": "f2f286de",
   "metadata": {},
   "outputs": [
    {
     "data": {
      "text/html": [
       "<div>\n",
       "<style scoped>\n",
       "    .dataframe tbody tr th:only-of-type {\n",
       "        vertical-align: middle;\n",
       "    }\n",
       "\n",
       "    .dataframe tbody tr th {\n",
       "        vertical-align: top;\n",
       "    }\n",
       "\n",
       "    .dataframe thead th {\n",
       "        text-align: right;\n",
       "    }\n",
       "</style>\n",
       "<table border=\"1\" class=\"dataframe\">\n",
       "  <thead>\n",
       "    <tr style=\"text-align: right;\">\n",
       "      <th></th>\n",
       "      <th>UserName</th>\n",
       "      <th>ScreenName</th>\n",
       "      <th>Location</th>\n",
       "      <th>TweetAt</th>\n",
       "      <th>OriginalTweet</th>\n",
       "      <th>Sentiment</th>\n",
       "    </tr>\n",
       "  </thead>\n",
       "  <tbody>\n",
       "    <tr>\n",
       "      <th>0</th>\n",
       "      <td>3799</td>\n",
       "      <td>48751</td>\n",
       "      <td>London</td>\n",
       "      <td>16-03-2020</td>\n",
       "      <td>@MeNyrbie @Phil_Gahan @Chrisitv https://t.co/i...</td>\n",
       "      <td>Neutral</td>\n",
       "    </tr>\n",
       "    <tr>\n",
       "      <th>1</th>\n",
       "      <td>3800</td>\n",
       "      <td>48752</td>\n",
       "      <td>UK</td>\n",
       "      <td>16-03-2020</td>\n",
       "      <td>advice Talk to your neighbours family to excha...</td>\n",
       "      <td>Positive</td>\n",
       "    </tr>\n",
       "    <tr>\n",
       "      <th>2</th>\n",
       "      <td>3801</td>\n",
       "      <td>48753</td>\n",
       "      <td>Vagabonds</td>\n",
       "      <td>16-03-2020</td>\n",
       "      <td>Coronavirus Australia: Woolworths to give elde...</td>\n",
       "      <td>Positive</td>\n",
       "    </tr>\n",
       "    <tr>\n",
       "      <th>3</th>\n",
       "      <td>3802</td>\n",
       "      <td>48754</td>\n",
       "      <td>NaN</td>\n",
       "      <td>16-03-2020</td>\n",
       "      <td>My food stock is not the only one which is emp...</td>\n",
       "      <td>Positive</td>\n",
       "    </tr>\n",
       "    <tr>\n",
       "      <th>4</th>\n",
       "      <td>3803</td>\n",
       "      <td>48755</td>\n",
       "      <td>NaN</td>\n",
       "      <td>16-03-2020</td>\n",
       "      <td>Me, ready to go at supermarket during the #COV...</td>\n",
       "      <td>Extremely Negative</td>\n",
       "    </tr>\n",
       "    <tr>\n",
       "      <th>...</th>\n",
       "      <td>...</td>\n",
       "      <td>...</td>\n",
       "      <td>...</td>\n",
       "      <td>...</td>\n",
       "      <td>...</td>\n",
       "      <td>...</td>\n",
       "    </tr>\n",
       "    <tr>\n",
       "      <th>44950</th>\n",
       "      <td>3794</td>\n",
       "      <td>48746</td>\n",
       "      <td>Israel ??</td>\n",
       "      <td>16-03-2020</td>\n",
       "      <td>Meanwhile In A Supermarket in Israel -- People...</td>\n",
       "      <td>Positive</td>\n",
       "    </tr>\n",
       "    <tr>\n",
       "      <th>44951</th>\n",
       "      <td>3795</td>\n",
       "      <td>48747</td>\n",
       "      <td>Farmington, NM</td>\n",
       "      <td>16-03-2020</td>\n",
       "      <td>Did you panic buy a lot of non-perishable item...</td>\n",
       "      <td>Negative</td>\n",
       "    </tr>\n",
       "    <tr>\n",
       "      <th>44952</th>\n",
       "      <td>3796</td>\n",
       "      <td>48748</td>\n",
       "      <td>Haverford, PA</td>\n",
       "      <td>16-03-2020</td>\n",
       "      <td>Asst Prof of Economics @cconces was on @NBCPhi...</td>\n",
       "      <td>Neutral</td>\n",
       "    </tr>\n",
       "    <tr>\n",
       "      <th>44953</th>\n",
       "      <td>3797</td>\n",
       "      <td>48749</td>\n",
       "      <td>NaN</td>\n",
       "      <td>16-03-2020</td>\n",
       "      <td>Gov need to do somethings instead of biar je r...</td>\n",
       "      <td>Extremely Negative</td>\n",
       "    </tr>\n",
       "    <tr>\n",
       "      <th>44954</th>\n",
       "      <td>3798</td>\n",
       "      <td>48750</td>\n",
       "      <td>Arlington, Virginia</td>\n",
       "      <td>16-03-2020</td>\n",
       "      <td>I and @ForestandPaper members are committed to...</td>\n",
       "      <td>Extremely Positive</td>\n",
       "    </tr>\n",
       "  </tbody>\n",
       "</table>\n",
       "<p>44955 rows × 6 columns</p>\n",
       "</div>"
      ],
      "text/plain": [
       "       UserName  ScreenName             Location     TweetAt  \\\n",
       "0          3799       48751               London  16-03-2020   \n",
       "1          3800       48752                   UK  16-03-2020   \n",
       "2          3801       48753            Vagabonds  16-03-2020   \n",
       "3          3802       48754                  NaN  16-03-2020   \n",
       "4          3803       48755                  NaN  16-03-2020   \n",
       "...         ...         ...                  ...         ...   \n",
       "44950      3794       48746            Israel ??  16-03-2020   \n",
       "44951      3795       48747       Farmington, NM  16-03-2020   \n",
       "44952      3796       48748        Haverford, PA  16-03-2020   \n",
       "44953      3797       48749                  NaN  16-03-2020   \n",
       "44954      3798       48750  Arlington, Virginia  16-03-2020   \n",
       "\n",
       "                                           OriginalTweet           Sentiment  \n",
       "0      @MeNyrbie @Phil_Gahan @Chrisitv https://t.co/i...             Neutral  \n",
       "1      advice Talk to your neighbours family to excha...            Positive  \n",
       "2      Coronavirus Australia: Woolworths to give elde...            Positive  \n",
       "3      My food stock is not the only one which is emp...            Positive  \n",
       "4      Me, ready to go at supermarket during the #COV...  Extremely Negative  \n",
       "...                                                  ...                 ...  \n",
       "44950  Meanwhile In A Supermarket in Israel -- People...            Positive  \n",
       "44951  Did you panic buy a lot of non-perishable item...            Negative  \n",
       "44952  Asst Prof of Economics @cconces was on @NBCPhi...             Neutral  \n",
       "44953  Gov need to do somethings instead of biar je r...  Extremely Negative  \n",
       "44954  I and @ForestandPaper members are committed to...  Extremely Positive  \n",
       "\n",
       "[44955 rows x 6 columns]"
      ]
     },
     "execution_count": 7,
     "metadata": {},
     "output_type": "execute_result"
    }
   ],
   "source": [
    "combi = train.append(test, ignore_index=True)\n",
    "combi"
   ]
  },
  {
   "cell_type": "markdown",
   "id": "c3fd1f6b",
   "metadata": {},
   "source": [
    "#### To create a coulmn, names 'tweet' and is attached in the end of atrributes in the dataframe combi, which includes all the content as 'OriginalTweet'. Building a loop function to find *all* the matches and returns them as a list of strings, with each string representing one match. "
   ]
  },
  {
   "cell_type": "code",
   "execution_count": 8,
   "id": "6f097e1e",
   "metadata": {},
   "outputs": [],
   "source": [
    "def remove_pattern(input_txt, pattern):\n",
    "    r = re.findall(pattern, input_txt)\n",
    "    for i in r:\n",
    "        input_txt = re.sub(i, '', input_txt)\n",
    "        \n",
    "    return input_txt "
   ]
  },
  {
   "cell_type": "markdown",
   "id": "9f863c63",
   "metadata": {},
   "source": [
    "#### Create an attribute 'tweet' matches any character contained in the character class 'OriginalTweet', except handle, in this work, the essential handle is a mention of username."
   ]
  },
  {
   "cell_type": "code",
   "execution_count": 9,
   "id": "b09a0a3a",
   "metadata": {},
   "outputs": [
    {
     "data": {
      "text/html": [
       "<div>\n",
       "<style scoped>\n",
       "    .dataframe tbody tr th:only-of-type {\n",
       "        vertical-align: middle;\n",
       "    }\n",
       "\n",
       "    .dataframe tbody tr th {\n",
       "        vertical-align: top;\n",
       "    }\n",
       "\n",
       "    .dataframe thead th {\n",
       "        text-align: right;\n",
       "    }\n",
       "</style>\n",
       "<table border=\"1\" class=\"dataframe\">\n",
       "  <thead>\n",
       "    <tr style=\"text-align: right;\">\n",
       "      <th></th>\n",
       "      <th>UserName</th>\n",
       "      <th>ScreenName</th>\n",
       "      <th>Location</th>\n",
       "      <th>TweetAt</th>\n",
       "      <th>OriginalTweet</th>\n",
       "      <th>Sentiment</th>\n",
       "      <th>tweet</th>\n",
       "    </tr>\n",
       "  </thead>\n",
       "  <tbody>\n",
       "    <tr>\n",
       "      <th>0</th>\n",
       "      <td>3799</td>\n",
       "      <td>48751</td>\n",
       "      <td>London</td>\n",
       "      <td>16-03-2020</td>\n",
       "      <td>@MeNyrbie @Phil_Gahan @Chrisitv https://t.co/i...</td>\n",
       "      <td>Neutral</td>\n",
       "      <td>https://t.co/iFz9FAn2Pa and https://t.co/xX...</td>\n",
       "    </tr>\n",
       "    <tr>\n",
       "      <th>1</th>\n",
       "      <td>3800</td>\n",
       "      <td>48752</td>\n",
       "      <td>UK</td>\n",
       "      <td>16-03-2020</td>\n",
       "      <td>advice Talk to your neighbours family to excha...</td>\n",
       "      <td>Positive</td>\n",
       "      <td>advice Talk to your neighbours family to excha...</td>\n",
       "    </tr>\n",
       "    <tr>\n",
       "      <th>2</th>\n",
       "      <td>3801</td>\n",
       "      <td>48753</td>\n",
       "      <td>Vagabonds</td>\n",
       "      <td>16-03-2020</td>\n",
       "      <td>Coronavirus Australia: Woolworths to give elde...</td>\n",
       "      <td>Positive</td>\n",
       "      <td>Coronavirus Australia: Woolworths to give elde...</td>\n",
       "    </tr>\n",
       "    <tr>\n",
       "      <th>3</th>\n",
       "      <td>3802</td>\n",
       "      <td>48754</td>\n",
       "      <td>NaN</td>\n",
       "      <td>16-03-2020</td>\n",
       "      <td>My food stock is not the only one which is emp...</td>\n",
       "      <td>Positive</td>\n",
       "      <td>My food stock is not the only one which is emp...</td>\n",
       "    </tr>\n",
       "    <tr>\n",
       "      <th>4</th>\n",
       "      <td>3803</td>\n",
       "      <td>48755</td>\n",
       "      <td>NaN</td>\n",
       "      <td>16-03-2020</td>\n",
       "      <td>Me, ready to go at supermarket during the #COV...</td>\n",
       "      <td>Extremely Negative</td>\n",
       "      <td>Me, ready to go at supermarket during the #COV...</td>\n",
       "    </tr>\n",
       "    <tr>\n",
       "      <th>...</th>\n",
       "      <td>...</td>\n",
       "      <td>...</td>\n",
       "      <td>...</td>\n",
       "      <td>...</td>\n",
       "      <td>...</td>\n",
       "      <td>...</td>\n",
       "      <td>...</td>\n",
       "    </tr>\n",
       "    <tr>\n",
       "      <th>44950</th>\n",
       "      <td>3794</td>\n",
       "      <td>48746</td>\n",
       "      <td>Israel ??</td>\n",
       "      <td>16-03-2020</td>\n",
       "      <td>Meanwhile In A Supermarket in Israel -- People...</td>\n",
       "      <td>Positive</td>\n",
       "      <td>Meanwhile In A Supermarket in Israel -- People...</td>\n",
       "    </tr>\n",
       "    <tr>\n",
       "      <th>44951</th>\n",
       "      <td>3795</td>\n",
       "      <td>48747</td>\n",
       "      <td>Farmington, NM</td>\n",
       "      <td>16-03-2020</td>\n",
       "      <td>Did you panic buy a lot of non-perishable item...</td>\n",
       "      <td>Negative</td>\n",
       "      <td>Did you panic buy a lot of non-perishable item...</td>\n",
       "    </tr>\n",
       "    <tr>\n",
       "      <th>44952</th>\n",
       "      <td>3796</td>\n",
       "      <td>48748</td>\n",
       "      <td>Haverford, PA</td>\n",
       "      <td>16-03-2020</td>\n",
       "      <td>Asst Prof of Economics @cconces was on @NBCPhi...</td>\n",
       "      <td>Neutral</td>\n",
       "      <td>Asst Prof of Economics  was on  talking about ...</td>\n",
       "    </tr>\n",
       "    <tr>\n",
       "      <th>44953</th>\n",
       "      <td>3797</td>\n",
       "      <td>48749</td>\n",
       "      <td>NaN</td>\n",
       "      <td>16-03-2020</td>\n",
       "      <td>Gov need to do somethings instead of biar je r...</td>\n",
       "      <td>Extremely Negative</td>\n",
       "      <td>Gov need to do somethings instead of biar je r...</td>\n",
       "    </tr>\n",
       "    <tr>\n",
       "      <th>44954</th>\n",
       "      <td>3798</td>\n",
       "      <td>48750</td>\n",
       "      <td>Arlington, Virginia</td>\n",
       "      <td>16-03-2020</td>\n",
       "      <td>I and @ForestandPaper members are committed to...</td>\n",
       "      <td>Extremely Positive</td>\n",
       "      <td>I and  members are committed to the safety of ...</td>\n",
       "    </tr>\n",
       "  </tbody>\n",
       "</table>\n",
       "<p>44955 rows × 7 columns</p>\n",
       "</div>"
      ],
      "text/plain": [
       "       UserName  ScreenName             Location     TweetAt  \\\n",
       "0          3799       48751               London  16-03-2020   \n",
       "1          3800       48752                   UK  16-03-2020   \n",
       "2          3801       48753            Vagabonds  16-03-2020   \n",
       "3          3802       48754                  NaN  16-03-2020   \n",
       "4          3803       48755                  NaN  16-03-2020   \n",
       "...         ...         ...                  ...         ...   \n",
       "44950      3794       48746            Israel ??  16-03-2020   \n",
       "44951      3795       48747       Farmington, NM  16-03-2020   \n",
       "44952      3796       48748        Haverford, PA  16-03-2020   \n",
       "44953      3797       48749                  NaN  16-03-2020   \n",
       "44954      3798       48750  Arlington, Virginia  16-03-2020   \n",
       "\n",
       "                                           OriginalTweet           Sentiment  \\\n",
       "0      @MeNyrbie @Phil_Gahan @Chrisitv https://t.co/i...             Neutral   \n",
       "1      advice Talk to your neighbours family to excha...            Positive   \n",
       "2      Coronavirus Australia: Woolworths to give elde...            Positive   \n",
       "3      My food stock is not the only one which is emp...            Positive   \n",
       "4      Me, ready to go at supermarket during the #COV...  Extremely Negative   \n",
       "...                                                  ...                 ...   \n",
       "44950  Meanwhile In A Supermarket in Israel -- People...            Positive   \n",
       "44951  Did you panic buy a lot of non-perishable item...            Negative   \n",
       "44952  Asst Prof of Economics @cconces was on @NBCPhi...             Neutral   \n",
       "44953  Gov need to do somethings instead of biar je r...  Extremely Negative   \n",
       "44954  I and @ForestandPaper members are committed to...  Extremely Positive   \n",
       "\n",
       "                                                   tweet  \n",
       "0         https://t.co/iFz9FAn2Pa and https://t.co/xX...  \n",
       "1      advice Talk to your neighbours family to excha...  \n",
       "2      Coronavirus Australia: Woolworths to give elde...  \n",
       "3      My food stock is not the only one which is emp...  \n",
       "4      Me, ready to go at supermarket during the #COV...  \n",
       "...                                                  ...  \n",
       "44950  Meanwhile In A Supermarket in Israel -- People...  \n",
       "44951  Did you panic buy a lot of non-perishable item...  \n",
       "44952  Asst Prof of Economics  was on  talking about ...  \n",
       "44953  Gov need to do somethings instead of biar je r...  \n",
       "44954  I and  members are committed to the safety of ...  \n",
       "\n",
       "[44955 rows x 7 columns]"
      ]
     },
     "execution_count": 9,
     "metadata": {},
     "output_type": "execute_result"
    }
   ],
   "source": [
    "combi['tweet'] = np.vectorize(remove_pattern)(combi['OriginalTweet'],\"@[\\w]*\")\n",
    "combi"
   ]
  },
  {
   "cell_type": "markdown",
   "id": "0a5d9cd3",
   "metadata": {},
   "source": [
    "#### The conversion of all text in attribute 'tweet' to lower case"
   ]
  },
  {
   "cell_type": "code",
   "execution_count": 10,
   "id": "8b175b8d",
   "metadata": {},
   "outputs": [
    {
     "data": {
      "text/plain": [
       "0           https://t.co/ifz9fan2pa and https://t.co/xx...\n",
       "1        advice talk to your neighbours family to excha...\n",
       "2        coronavirus australia: woolworths to give elde...\n",
       "3        my food stock is not the only one which is emp...\n",
       "4        me, ready to go at supermarket during the #cov...\n",
       "                               ...                        \n",
       "44950    meanwhile in a supermarket in israel -- people...\n",
       "44951    did you panic buy a lot of non-perishable item...\n",
       "44952    asst prof of economics  was on  talking about ...\n",
       "44953    gov need to do somethings instead of biar je r...\n",
       "44954    i and  members are committed to the safety of ...\n",
       "Name: tweet, Length: 44955, dtype: object"
      ]
     },
     "execution_count": 10,
     "metadata": {},
     "output_type": "execute_result"
    }
   ],
   "source": [
    "combi['tweet'] = combi['tweet'].str.lower()\n",
    "combi['tweet']"
   ]
  },
  {
   "cell_type": "markdown",
   "id": "4b893dba",
   "metadata": {},
   "source": [
    "#### Removol of irrelevant links embedded into Twitter posts"
   ]
  },
  {
   "cell_type": "code",
   "execution_count": 11,
   "id": "69def944",
   "metadata": {},
   "outputs": [
    {
     "name": "stderr",
     "output_type": "stream",
     "text": [
      "/var/folders/22/tjhpw2r91370hgz2gq4kcf980000gn/T/ipykernel_12250/2329953310.py:1: FutureWarning: The default value of regex will change from True to False in a future version.\n",
      "  combi['tweet'] = combi['tweet'].str.replace(\"https*\\S+\", \" \")\n"
     ]
    },
    {
     "data": {
      "text/plain": [
       "0                                              and   and  \n",
       "1        advice talk to your neighbours family to excha...\n",
       "2        coronavirus australia: woolworths to give elde...\n",
       "3        my food stock is not the only one which is emp...\n",
       "4        me, ready to go at supermarket during the #cov...\n",
       "                               ...                        \n",
       "44950    meanwhile in a supermarket in israel -- people...\n",
       "44951    did you panic buy a lot of non-perishable item...\n",
       "44952    asst prof of economics  was on  talking about ...\n",
       "44953    gov need to do somethings instead of biar je r...\n",
       "44954    i and  members are committed to the safety of ...\n",
       "Name: tweet, Length: 44955, dtype: object"
      ]
     },
     "execution_count": 11,
     "metadata": {},
     "output_type": "execute_result"
    }
   ],
   "source": [
    "combi['tweet'] = combi['tweet'].str.replace(\"https*\\S+\", \" \")\n",
    "combi['tweet']"
   ]
  },
  {
   "cell_type": "markdown",
   "id": "740129dd",
   "metadata": {},
   "source": [
    "#### Removal hushtag. In this work ,the essential hashtags are #covid-19 and #coronavirus."
   ]
  },
  {
   "cell_type": "code",
   "execution_count": 12,
   "id": "21a01b01",
   "metadata": {},
   "outputs": [
    {
     "name": "stderr",
     "output_type": "stream",
     "text": [
      "/var/folders/22/tjhpw2r91370hgz2gq4kcf980000gn/T/ipykernel_12250/1094092105.py:1: FutureWarning: The default value of regex will change from True to False in a future version.\n",
      "  combi['tweet'] = combi['tweet'].str.replace(\"#\\S+\", \" \")\n"
     ]
    },
    {
     "data": {
      "text/plain": [
       "0                                              and   and  \n",
       "1        advice talk to your neighbours family to excha...\n",
       "2        coronavirus australia: woolworths to give elde...\n",
       "3        my food stock is not the only one which is emp...\n",
       "4        me, ready to go at supermarket during the   ou...\n",
       "                               ...                        \n",
       "44950    meanwhile in a supermarket in israel -- people...\n",
       "44951    did you panic buy a lot of non-perishable item...\n",
       "44952    asst prof of economics  was on  talking about ...\n",
       "44953    gov need to do somethings instead of biar je r...\n",
       "44954    i and  members are committed to the safety of ...\n",
       "Name: tweet, Length: 44955, dtype: object"
      ]
     },
     "execution_count": 12,
     "metadata": {},
     "output_type": "execute_result"
    }
   ],
   "source": [
    "combi['tweet'] = combi['tweet'].str.replace(\"#\\S+\", \" \")\n",
    "combi['tweet']"
   ]
  },
  {
   "cell_type": "markdown",
   "id": "9868dab4",
   "metadata": {},
   "source": [
    "#### Containing only lower case lecter words. The way to remove the punctuation and number in this step."
   ]
  },
  {
   "cell_type": "code",
   "execution_count": 13,
   "id": "d05c772a",
   "metadata": {},
   "outputs": [
    {
     "name": "stderr",
     "output_type": "stream",
     "text": [
      "/var/folders/22/tjhpw2r91370hgz2gq4kcf980000gn/T/ipykernel_12250/2385475676.py:2: FutureWarning: The default value of regex will change from True to False in a future version.\n",
      "  combi['tweet'] = combi['tweet'].str.replace(\"[^a-z]\", \" \")\n"
     ]
    },
    {
     "data": {
      "text/plain": [
       "0                                              and   and  \n",
       "1        advice talk to your neighbours family to excha...\n",
       "2        coronavirus australia  woolworths to give elde...\n",
       "3        my food stock is not the only one which is emp...\n",
       "4        me  ready to go at supermarket during the   ou...\n",
       "                               ...                        \n",
       "44950    meanwhile in a supermarket in israel    people...\n",
       "44951    did you panic buy a lot of non perishable item...\n",
       "44952    asst prof of economics  was on  talking about ...\n",
       "44953    gov need to do somethings instead of biar je r...\n",
       "44954    i and  members are committed to the safety of ...\n",
       "Name: tweet, Length: 44955, dtype: object"
      ]
     },
     "execution_count": 13,
     "metadata": {},
     "output_type": "execute_result"
    }
   ],
   "source": [
    "#combi['tweet'] = combi['tweet'].apply(lambda x: ''.join([i for i in x if i not in string.punctuation]))\n",
    "combi['tweet'] = combi['tweet'].str.replace(\"[^a-z]\", \" \")\n",
    "combi['tweet']"
   ]
  },
  {
   "cell_type": "markdown",
   "id": "4368c400",
   "metadata": {},
   "source": [
    "#### Removal of stop words which are insignificant words in a NLP and useless in the setiment analysis. They include articles, conjunctions, prepositions, some pronouns, and common words such as the, a, an, about, by, from, to, and so on."
   ]
  },
  {
   "cell_type": "code",
   "execution_count": 14,
   "id": "1aa925d3",
   "metadata": {},
   "outputs": [
    {
     "data": {
      "text/plain": [
       "0                                                         \n",
       "1        advice talk neighbours family exchange phone n...\n",
       "2        coronavirus australia  woolworths give elderly...\n",
       "3        food stock one empty         please  panic  en...\n",
       "4         ready go supermarket   outbreak       paranoi...\n",
       "                               ...                        \n",
       "44950    meanwhile supermarket israel    people dance s...\n",
       "44951    panic buy lot non perishable items  echo needs...\n",
       "44952    asst prof economics   talking recent research ...\n",
       "44953    gov need somethings instead biar je rakyat ass...\n",
       "44954     members committed safety employees end users ...\n",
       "Name: tweet, Length: 44955, dtype: object"
      ]
     },
     "execution_count": 14,
     "metadata": {},
     "output_type": "execute_result"
    }
   ],
   "source": [
    "stop_words = stopwords.words(\"english\")\n",
    "combi['tweet'] = combi['tweet'].apply(lambda x: ' '.join([word for word in x.split(' ') if word not in stop_words]))\n",
    "combi['tweet']"
   ]
  },
  {
   "cell_type": "markdown",
   "id": "310b6e09",
   "metadata": {},
   "source": [
    "### Tokenization\n",
    "####  'split()' supports a fine-grained tokens with all the different tokens in the sentence. Each token carries an intrinsic meaning."
   ]
  },
  {
   "cell_type": "code",
   "execution_count": 15,
   "id": "5e2769b7",
   "metadata": {},
   "outputs": [
    {
     "data": {
      "text/plain": [
       "0                                                   []\n",
       "1    [advice, talk, neighbours, family, exchange, p...\n",
       "2    [coronavirus, australia, woolworths, give, eld...\n",
       "3    [food, stock, one, empty, please, panic, enoug...\n",
       "4    [ready, go, supermarket, outbreak, paranoid, f...\n",
       "Name: tweet, dtype: object"
      ]
     },
     "execution_count": 15,
     "metadata": {},
     "output_type": "execute_result"
    }
   ],
   "source": [
    "tokenized_tweet = combi['tweet'].apply(lambda x: x.split())\n",
    "tokenized_tweet.head()"
   ]
  },
  {
   "cell_type": "markdown",
   "id": "34108f93",
   "metadata": {},
   "source": [
    "### Stemming\n",
    "#### By Porter Stemmer, changing the words into their original form (i.e., root form to decrease the number of word types or classes in the data). For example, the terms “Walking,” “Walked,” and “Walker” will be reduced to the word “walk”.\n",
    "\n"
   ]
  },
  {
   "cell_type": "code",
   "execution_count": 16,
   "id": "74e58359",
   "metadata": {
    "scrolled": true
   },
   "outputs": [
    {
     "data": {
      "text/plain": [
       "0                                                   []\n",
       "1    [advic, talk, neighbour, famili, exchang, phon...\n",
       "2    [coronaviru, australia, woolworth, give, elder...\n",
       "3    [food, stock, one, empti, pleas, panic, enough...\n",
       "4    [readi, go, supermarket, outbreak, paranoid, f...\n",
       "Name: tweet, dtype: object"
      ]
     },
     "execution_count": 16,
     "metadata": {},
     "output_type": "execute_result"
    }
   ],
   "source": [
    "from nltk.stem.porter import *\n",
    "stemmer = PorterStemmer()\n",
    "\n",
    "tokenized_tweet = tokenized_tweet.apply(lambda x: [stemmer.stem(i) for i in x]) \n",
    "tokenized_tweet.head()"
   ]
  },
  {
   "cell_type": "markdown",
   "id": "7b6205aa",
   "metadata": {},
   "source": [
    "### By 'MosesDetokenizer', taking a list of tokens which is after stemming and returning the string of 'tweet'."
   ]
  },
  {
   "cell_type": "code",
   "execution_count": 20,
   "id": "df2dee64",
   "metadata": {},
   "outputs": [
    {
     "name": "stdout",
     "output_type": "stream",
     "text": [
      "Collecting sacremoses\n",
      "  Downloading sacremoses-0.0.47-py2.py3-none-any.whl (895 kB)\n",
      "\u001b[K     |████████████████████████████████| 895 kB 2.1 MB/s eta 0:00:01\n",
      "\u001b[?25hRequirement already satisfied: joblib in /Users/baihaicen/opt/anaconda3/lib/python3.9/site-packages (from sacremoses) (1.1.0)\n",
      "Requirement already satisfied: click in /Users/baihaicen/opt/anaconda3/lib/python3.9/site-packages (from sacremoses) (8.0.3)\n",
      "Requirement already satisfied: regex in /Users/baihaicen/opt/anaconda3/lib/python3.9/site-packages (from sacremoses) (2021.8.3)\n",
      "Requirement already satisfied: six in /Users/baihaicen/opt/anaconda3/lib/python3.9/site-packages (from sacremoses) (1.16.0)\n",
      "Requirement already satisfied: tqdm in /Users/baihaicen/opt/anaconda3/lib/python3.9/site-packages (from sacremoses) (4.62.3)\n",
      "Installing collected packages: sacremoses\n",
      "Successfully installed sacremoses-0.0.47\n",
      "Note: you may need to restart the kernel to use updated packages.\n"
     ]
    }
   ],
   "source": [
    "pip install -U sacremoses"
   ]
  },
  {
   "cell_type": "code",
   "execution_count": 21,
   "id": "f736bd10",
   "metadata": {},
   "outputs": [
    {
     "data": {
      "text/plain": [
       "0                                                         \n",
       "1        advic talk neighbour famili exchang phone numb...\n",
       "2        coronaviru australia woolworth give elderli di...\n",
       "3        food stock one empti pleas panic enough food e...\n",
       "4        readi go supermarket outbreak paranoid food st...\n",
       "                               ...                        \n",
       "44950    meanwhil supermarket israel peopl danc sing to...\n",
       "44951    panic buy lot non perish item echo need food d...\n",
       "44952    asst prof econom talk recent research coronavi...\n",
       "44953    gov need someth instead biar je rakyat assum l...\n",
       "44954    member commit safeti employe end user monitor ...\n",
       "Name: tweet, Length: 44955, dtype: object"
      ]
     },
     "execution_count": 21,
     "metadata": {},
     "output_type": "execute_result"
    }
   ],
   "source": [
    "from sacremoses import MosesDetokenizer\n",
    "\n",
    "detokenizer = MosesDetokenizer() \n",
    "for i in range(len(tokenized_tweet)):\n",
    "  tokenized_tweet[i] = detokenizer.detokenize(tokenized_tweet[i], return_str=True)\n",
    "\n",
    "combi['tweet'] = tokenized_tweet\n",
    "combi['tweet']"
   ]
  },
  {
   "cell_type": "markdown",
   "id": "61ee98af",
   "metadata": {},
   "source": [
    "### Sentiment Classification\n",
    "- create a loop funtion 'analize_sentiment'\n",
    "- return to 1 as positive ; 0 as neutral; -1 as negative\n",
    "- import package 'TextBlob' to perform sentiment analysis on data collected from Twitter"
   ]
  },
  {
   "cell_type": "code",
   "execution_count": 22,
   "id": "f98958fb",
   "metadata": {},
   "outputs": [
    {
     "name": "stdout",
     "output_type": "stream",
     "text": [
      "Collecting textblob\n",
      "  Downloading textblob-0.17.1-py2.py3-none-any.whl (636 kB)\n",
      "\u001b[K     |████████████████████████████████| 636 kB 2.2 MB/s eta 0:00:01\n",
      "\u001b[?25hRequirement already satisfied: nltk>=3.1 in /Users/baihaicen/opt/anaconda3/lib/python3.9/site-packages (from textblob) (3.6.5)\n",
      "Requirement already satisfied: click in /Users/baihaicen/opt/anaconda3/lib/python3.9/site-packages (from nltk>=3.1->textblob) (8.0.3)\n",
      "Requirement already satisfied: joblib in /Users/baihaicen/opt/anaconda3/lib/python3.9/site-packages (from nltk>=3.1->textblob) (1.1.0)\n",
      "Requirement already satisfied: regex>=2021.8.3 in /Users/baihaicen/opt/anaconda3/lib/python3.9/site-packages (from nltk>=3.1->textblob) (2021.8.3)\n",
      "Requirement already satisfied: tqdm in /Users/baihaicen/opt/anaconda3/lib/python3.9/site-packages (from nltk>=3.1->textblob) (4.62.3)\n",
      "Installing collected packages: textblob\n",
      "Successfully installed textblob-0.17.1\n",
      "Note: you may need to restart the kernel to use updated packages.\n"
     ]
    }
   ],
   "source": [
    "pip install textblob"
   ]
  },
  {
   "cell_type": "code",
   "execution_count": 24,
   "id": "93fb0563",
   "metadata": {},
   "outputs": [],
   "source": [
    "from textblob import TextBlob\n",
    "\n",
    "def analize_sentiment(tw):\n",
    "    '''\n",
    "    Utility function to classify the polarity of a tweet\n",
    "    using textblob.\n",
    "    '''\n",
    "    analysis = TextBlob(tw)\n",
    "    if analysis.sentiment.polarity > 0:\n",
    "        return 1\n",
    "    elif analysis.sentiment.polarity == 0:\n",
    "        return 0\n",
    "    else:\n",
    "        return -1"
   ]
  },
  {
   "cell_type": "markdown",
   "id": "c1b3ebe9",
   "metadata": {},
   "source": [
    "#### Create a column with the result of the analysis:"
   ]
  },
  {
   "cell_type": "code",
   "execution_count": 25,
   "id": "e629d6c2",
   "metadata": {},
   "outputs": [],
   "source": [
    "combi['Sentiment'] = np.array([ analize_sentiment(tw) for tw in combi['tweet'] ])"
   ]
  },
  {
   "cell_type": "markdown",
   "id": "9a741e1a",
   "metadata": {},
   "source": [
    "#### Display the updated dataframe with the new column:"
   ]
  },
  {
   "cell_type": "code",
   "execution_count": 26,
   "id": "1608b65e",
   "metadata": {},
   "outputs": [
    {
     "data": {
      "text/html": [
       "<div>\n",
       "<style scoped>\n",
       "    .dataframe tbody tr th:only-of-type {\n",
       "        vertical-align: middle;\n",
       "    }\n",
       "\n",
       "    .dataframe tbody tr th {\n",
       "        vertical-align: top;\n",
       "    }\n",
       "\n",
       "    .dataframe thead th {\n",
       "        text-align: right;\n",
       "    }\n",
       "</style>\n",
       "<table border=\"1\" class=\"dataframe\">\n",
       "  <thead>\n",
       "    <tr style=\"text-align: right;\">\n",
       "      <th></th>\n",
       "      <th>UserName</th>\n",
       "      <th>ScreenName</th>\n",
       "      <th>Location</th>\n",
       "      <th>TweetAt</th>\n",
       "      <th>OriginalTweet</th>\n",
       "      <th>Sentiment</th>\n",
       "      <th>tweet</th>\n",
       "    </tr>\n",
       "  </thead>\n",
       "  <tbody>\n",
       "    <tr>\n",
       "      <th>0</th>\n",
       "      <td>3799</td>\n",
       "      <td>48751</td>\n",
       "      <td>London</td>\n",
       "      <td>16-03-2020</td>\n",
       "      <td>@MeNyrbie @Phil_Gahan @Chrisitv https://t.co/i...</td>\n",
       "      <td>0</td>\n",
       "      <td></td>\n",
       "    </tr>\n",
       "    <tr>\n",
       "      <th>1</th>\n",
       "      <td>3800</td>\n",
       "      <td>48752</td>\n",
       "      <td>UK</td>\n",
       "      <td>16-03-2020</td>\n",
       "      <td>advice Talk to your neighbours family to excha...</td>\n",
       "      <td>0</td>\n",
       "      <td>advic talk neighbour famili exchang phone numb...</td>\n",
       "    </tr>\n",
       "    <tr>\n",
       "      <th>2</th>\n",
       "      <td>3801</td>\n",
       "      <td>48753</td>\n",
       "      <td>Vagabonds</td>\n",
       "      <td>16-03-2020</td>\n",
       "      <td>Coronavirus Australia: Woolworths to give elde...</td>\n",
       "      <td>0</td>\n",
       "      <td>coronaviru australia woolworth give elderli di...</td>\n",
       "    </tr>\n",
       "    <tr>\n",
       "      <th>3</th>\n",
       "      <td>3802</td>\n",
       "      <td>48754</td>\n",
       "      <td>NaN</td>\n",
       "      <td>16-03-2020</td>\n",
       "      <td>My food stock is not the only one which is emp...</td>\n",
       "      <td>1</td>\n",
       "      <td>food stock one empti pleas panic enough food e...</td>\n",
       "    </tr>\n",
       "    <tr>\n",
       "      <th>4</th>\n",
       "      <td>3803</td>\n",
       "      <td>48755</td>\n",
       "      <td>NaN</td>\n",
       "      <td>16-03-2020</td>\n",
       "      <td>Me, ready to go at supermarket during the #COV...</td>\n",
       "      <td>0</td>\n",
       "      <td>readi go supermarket outbreak paranoid food st...</td>\n",
       "    </tr>\n",
       "    <tr>\n",
       "      <th>5</th>\n",
       "      <td>3804</td>\n",
       "      <td>48756</td>\n",
       "      <td>ÃT: 36.319708,-82.363649</td>\n",
       "      <td>16-03-2020</td>\n",
       "      <td>As news of the regionÂs first confirmed COVID...</td>\n",
       "      <td>1</td>\n",
       "      <td>news region first confirm covid case came sull...</td>\n",
       "    </tr>\n",
       "    <tr>\n",
       "      <th>6</th>\n",
       "      <td>3805</td>\n",
       "      <td>48757</td>\n",
       "      <td>35.926541,-78.753267</td>\n",
       "      <td>16-03-2020</td>\n",
       "      <td>Cashier at grocery store was sharing his insig...</td>\n",
       "      <td>0</td>\n",
       "      <td>cashier groceri store share insight prove cred...</td>\n",
       "    </tr>\n",
       "    <tr>\n",
       "      <th>7</th>\n",
       "      <td>3806</td>\n",
       "      <td>48758</td>\n",
       "      <td>Austria</td>\n",
       "      <td>16-03-2020</td>\n",
       "      <td>Was at the supermarket today. Didn't buy toile...</td>\n",
       "      <td>-1</td>\n",
       "      <td>supermarket today buy toilet paper</td>\n",
       "    </tr>\n",
       "    <tr>\n",
       "      <th>8</th>\n",
       "      <td>3807</td>\n",
       "      <td>48759</td>\n",
       "      <td>Atlanta, GA USA</td>\n",
       "      <td>16-03-2020</td>\n",
       "      <td>Due to COVID-19 our retail store and classroom...</td>\n",
       "      <td>1</td>\n",
       "      <td>due covid retail store classroom atlanta open ...</td>\n",
       "    </tr>\n",
       "    <tr>\n",
       "      <th>9</th>\n",
       "      <td>3808</td>\n",
       "      <td>48760</td>\n",
       "      <td>BHAVNAGAR,GUJRAT</td>\n",
       "      <td>16-03-2020</td>\n",
       "      <td>For corona prevention,we should stop to buy th...</td>\n",
       "      <td>0</td>\n",
       "      <td>corona prevent stop buy thing cash use onlin p...</td>\n",
       "    </tr>\n",
       "  </tbody>\n",
       "</table>\n",
       "</div>"
      ],
      "text/plain": [
       "   UserName  ScreenName                   Location     TweetAt  \\\n",
       "0      3799       48751                     London  16-03-2020   \n",
       "1      3800       48752                         UK  16-03-2020   \n",
       "2      3801       48753                  Vagabonds  16-03-2020   \n",
       "3      3802       48754                        NaN  16-03-2020   \n",
       "4      3803       48755                        NaN  16-03-2020   \n",
       "5      3804       48756  ÃT: 36.319708,-82.363649  16-03-2020   \n",
       "6      3805       48757       35.926541,-78.753267  16-03-2020   \n",
       "7      3806       48758                    Austria  16-03-2020   \n",
       "8      3807       48759            Atlanta, GA USA  16-03-2020   \n",
       "9      3808       48760           BHAVNAGAR,GUJRAT  16-03-2020   \n",
       "\n",
       "                                       OriginalTweet  Sentiment  \\\n",
       "0  @MeNyrbie @Phil_Gahan @Chrisitv https://t.co/i...          0   \n",
       "1  advice Talk to your neighbours family to excha...          0   \n",
       "2  Coronavirus Australia: Woolworths to give elde...          0   \n",
       "3  My food stock is not the only one which is emp...          1   \n",
       "4  Me, ready to go at supermarket during the #COV...          0   \n",
       "5  As news of the regionÂs first confirmed COVID...          1   \n",
       "6  Cashier at grocery store was sharing his insig...          0   \n",
       "7  Was at the supermarket today. Didn't buy toile...         -1   \n",
       "8  Due to COVID-19 our retail store and classroom...          1   \n",
       "9  For corona prevention,we should stop to buy th...          0   \n",
       "\n",
       "                                               tweet  \n",
       "0                                                     \n",
       "1  advic talk neighbour famili exchang phone numb...  \n",
       "2  coronaviru australia woolworth give elderli di...  \n",
       "3  food stock one empti pleas panic enough food e...  \n",
       "4  readi go supermarket outbreak paranoid food st...  \n",
       "5  news region first confirm covid case came sull...  \n",
       "6  cashier groceri store share insight prove cred...  \n",
       "7                 supermarket today buy toilet paper  \n",
       "8  due covid retail store classroom atlanta open ...  \n",
       "9  corona prevent stop buy thing cash use onlin p...  "
      ]
     },
     "metadata": {},
     "output_type": "display_data"
    }
   ],
   "source": [
    "display(combi.head(10))"
   ]
  },
  {
   "cell_type": "markdown",
   "id": "c91a8b67",
   "metadata": {},
   "source": [
    "### Data Splitting\n",
    "- 90% of the training dataset; 10% of the testing dataset\n",
    "- x as the tweet data; y as the sentiment data"
   ]
  },
  {
   "cell_type": "code",
   "execution_count": 27,
   "id": "9eff64ba",
   "metadata": {},
   "outputs": [],
   "source": [
    "df_train_s = pd.DataFrame(combi[:41157], columns=[\"tweet\", \"Sentiment\"])\n",
    "df_test_s = pd.DataFrame(combi[41157:], columns=[\"tweet\", \"Sentiment\"])\n",
    "\n",
    "x_train = df_train_s[\"tweet\"]\n",
    "y_train = df_train_s[\"Sentiment\"]\n",
    "\n",
    "x_test = df_test_s[\"tweet\"]\n",
    "y_test = df_test_s[\"Sentiment\"]\n"
   ]
  },
  {
   "cell_type": "code",
   "execution_count": 28,
   "id": "1397249d",
   "metadata": {},
   "outputs": [
    {
     "data": {
      "text/plain": [
       "0                                                         \n",
       "1        advic talk neighbour famili exchang phone numb...\n",
       "2        coronaviru australia woolworth give elderli di...\n",
       "3        food stock one empti pleas panic enough food e...\n",
       "4        readi go supermarket outbreak paranoid food st...\n",
       "                               ...                        \n",
       "41152    airlin pilot offer stock supermarket shelv loc...\n",
       "41153    respons complaint provid cite covid relat dela...\n",
       "41154    know get tough ration toilet paper martinsvil ...\n",
       "41155                    wrong smell hand sanit start turn\n",
       "41156    well new use rift go amazon rn although normal...\n",
       "Name: tweet, Length: 41157, dtype: object"
      ]
     },
     "metadata": {},
     "output_type": "display_data"
    }
   ],
   "source": [
    "display(x_train)"
   ]
  },
  {
   "cell_type": "code",
   "execution_count": 29,
   "id": "df93ea13",
   "metadata": {},
   "outputs": [
    {
     "data": {
      "text/plain": [
       "0        0\n",
       "1        0\n",
       "2        0\n",
       "3        1\n",
       "4        0\n",
       "        ..\n",
       "41152    0\n",
       "41153   -1\n",
       "41154   -1\n",
       "41155   -1\n",
       "41156    1\n",
       "Name: Sentiment, Length: 41157, dtype: int64"
      ]
     },
     "metadata": {},
     "output_type": "display_data"
    }
   ],
   "source": [
    "display(y_train)"
   ]
  },
  {
   "cell_type": "code",
   "execution_count": 30,
   "id": "60a2edb0",
   "metadata": {},
   "outputs": [
    {
     "data": {
      "text/plain": [
       "41157    trend new yorker encount empti supermarket she...\n",
       "41158    find hand sanit fred meyer turn pack purel che...\n",
       "41159                                find protect love one\n",
       "41160    buy hit citi anxiou shopper stock food amp med...\n",
       "41161    one week everyon buy babi milk powder next eve...\n",
       "                               ...                        \n",
       "44950    meanwhil supermarket israel peopl danc sing to...\n",
       "44951    panic buy lot non perish item echo need food d...\n",
       "44952    asst prof econom talk recent research coronavi...\n",
       "44953    gov need someth instead biar je rakyat assum l...\n",
       "44954    member commit safeti employe end user monitor ...\n",
       "Name: tweet, Length: 3798, dtype: object"
      ]
     },
     "metadata": {},
     "output_type": "display_data"
    }
   ],
   "source": [
    "display(x_test)"
   ]
  },
  {
   "cell_type": "code",
   "execution_count": 31,
   "id": "92b8494f",
   "metadata": {
    "scrolled": true
   },
   "outputs": [
    {
     "data": {
      "text/plain": [
       "41157    1\n",
       "41158    0\n",
       "41159    1\n",
       "41160    0\n",
       "41161   -1\n",
       "        ..\n",
       "44950    0\n",
       "44951    1\n",
       "44952    0\n",
       "44953   -1\n",
       "44954    0\n",
       "Name: Sentiment, Length: 3798, dtype: int64"
      ]
     },
     "metadata": {},
     "output_type": "display_data"
    }
   ],
   "source": [
    "display(y_test)"
   ]
  },
  {
   "cell_type": "markdown",
   "id": "f2e9b21e",
   "metadata": {},
   "source": [
    "#### A short view of the disturbution of sentiment in trianing dataset."
   ]
  },
  {
   "cell_type": "code",
   "execution_count": 32,
   "id": "a6a56886",
   "metadata": {},
   "outputs": [
    {
     "data": {
      "text/plain": [
       "Sentiment\n",
       "-1     8878\n",
       " 0    16933\n",
       " 1    15346\n",
       "dtype: int64"
      ]
     },
     "execution_count": 32,
     "metadata": {},
     "output_type": "execute_result"
    }
   ],
   "source": [
    "senti = df_train_s.groupby(\"Sentiment\").size()\n",
    "senti"
   ]
  },
  {
   "cell_type": "markdown",
   "id": "dac58d7b",
   "metadata": {},
   "source": [
    "## Feature Extraction\n",
    "- Using TF-IDF model with N-Gram model\n",
    "- Including n = 1 to n = 4 (i.e., unigram, bigram, trigram, and four-gram)\n",
    "- Two matrix sizes: 1000 and 3000"
   ]
  },
  {
   "cell_type": "markdown",
   "id": "b76f2fec",
   "metadata": {},
   "source": [
    "#### By setting 'max_df', to filter a word which the probability is upper than 90%\n",
    "#### 'max_fearures' defines the matrix sizes\n",
    "#### 'ngram_range' sets the N-gram"
   ]
  },
  {
   "cell_type": "code",
   "execution_count": 33,
   "id": "de4d8713",
   "metadata": {},
   "outputs": [],
   "source": [
    "from sklearn.feature_extraction.text import TfidfVectorizer\n",
    "\n",
    "tfidf_1_u = TfidfVectorizer(max_df=0.90, min_df=0, max_features=1000, ngram_range=(1,1))\n",
    "tfidf_1_b = TfidfVectorizer(max_df=0.90, min_df=0, max_features=1000, ngram_range=(1,2))\n",
    "tfidf_1_t = TfidfVectorizer(max_df=0.90, min_df=0, max_features=1000, ngram_range=(1,3))\n",
    "tfidf_1_f = TfidfVectorizer(max_df=0.90, min_df=0, max_features=1000, ngram_range=(1,4))\n",
    "\n",
    "tfidf_3_u = TfidfVectorizer(max_df=0.90, min_df=0, max_features=3000, ngram_range=(1,1))\n",
    "tfidf_3_b = TfidfVectorizer(max_df=0.90, min_df=0, max_features=3000, ngram_range=(1,2))\n",
    "tfidf_3_t = TfidfVectorizer(max_df=0.90, min_df=0, max_features=3000, ngram_range=(1,3))\n",
    "tfidf_3_f = TfidfVectorizer(max_df=0.90, min_df=0, max_features=3000, ngram_range=(1,4))"
   ]
  },
  {
   "cell_type": "markdown",
   "id": "552796b1",
   "metadata": {},
   "source": [
    "#### 'fit_transform' learns vocabulary and idf above, return document-term matrix, in this work ,it is x_train."
   ]
  },
  {
   "cell_type": "code",
   "execution_count": 34,
   "id": "0c07d7dd",
   "metadata": {
    "scrolled": true
   },
   "outputs": [],
   "source": [
    "x_train_1_u = tfidf_1_u.fit_transform(x_train)\n",
    "x_train_1_b = tfidf_1_b.fit_transform(x_train)\n",
    "x_train_1_t = tfidf_1_t.fit_transform(x_train)\n",
    "x_train_1_f = tfidf_1_f.fit_transform(x_train)\n",
    "\n",
    "x_train_3_u = tfidf_3_u.fit_transform(x_train)\n",
    "x_train_3_b = tfidf_3_b.fit_transform(x_train)\n",
    "x_train_3_t = tfidf_3_t.fit_transform(x_train)\n",
    "x_train_3_f = tfidf_3_f.fit_transform(x_train)\n",
    "\n",
    "\n",
    "x_test_1_u = tfidf_1_u.fit_transform(x_test)\n",
    "x_test_1_b = tfidf_1_b.fit_transform(x_test)\n",
    "x_test_1_t = tfidf_1_t.fit_transform(x_test)\n",
    "x_test_1_f = tfidf_1_f.fit_transform(x_test)\n",
    "\n",
    "x_test_3_u = tfidf_3_u.fit_transform(x_test)\n",
    "x_test_3_b = tfidf_3_b.fit_transform(x_test)\n",
    "x_test_3_t = tfidf_3_t.fit_transform(x_test)\n",
    "x_test_3_f = tfidf_3_f.fit_transform(x_test)\n"
   ]
  },
  {
   "cell_type": "markdown",
   "id": "1a669a67",
   "metadata": {},
   "source": [
    "#### Matrix size as 1000 of the unigram training dataset"
   ]
  },
  {
   "cell_type": "code",
   "execution_count": 35,
   "id": "9ad0c10f",
   "metadata": {},
   "outputs": [
    {
     "data": {
      "text/plain": [
       "<41157x1000 sparse matrix of type '<class 'numpy.float64'>'\n",
       "\twith 455122 stored elements in Compressed Sparse Row format>"
      ]
     },
     "execution_count": 35,
     "metadata": {},
     "output_type": "execute_result"
    }
   ],
   "source": [
    "x_train_1_u"
   ]
  },
  {
   "cell_type": "markdown",
   "id": "b8ca1f46",
   "metadata": {},
   "source": [
    "#### Matrix size as 3000 of the unigram training dataset"
   ]
  },
  {
   "cell_type": "code",
   "execution_count": 36,
   "id": "76d258f8",
   "metadata": {},
   "outputs": [
    {
     "data": {
      "text/plain": [
       "<41157x3000 sparse matrix of type '<class 'numpy.float64'>'\n",
       "\twith 547335 stored elements in Compressed Sparse Row format>"
      ]
     },
     "execution_count": 36,
     "metadata": {},
     "output_type": "execute_result"
    }
   ],
   "source": [
    "x_train_3_u"
   ]
  },
  {
   "cell_type": "markdown",
   "id": "e52f4cc8",
   "metadata": {},
   "source": [
    "# Optimization and Training Models\n",
    "- In SVM , K-NN, DT, RF and LR \n",
    "- A comparision for testing the classifier models in normal testing and cross-validation testing as 10-fold cross-   validation\n",
    "    "
   ]
  },
  {
   "cell_type": "markdown",
   "id": "6cd8f336",
   "metadata": {},
   "source": [
    "## Models Evaluation\n",
    "- Accuracy \n",
    "- Precision\n",
    "- Recall\n",
    "- F1-acore"
   ]
  },
  {
   "cell_type": "markdown",
   "id": "7996e0ae",
   "metadata": {},
   "source": [
    "## SVM\n",
    "- Applied linear kernel to classify and regress the dataset, in this work, dataset does not hold a high dimension     nor small train dataset\n",
    "- Choosing the Soft Margin as 1 in the whole SVM training \n",
    "\n",
    "\n"
   ]
  },
  {
   "cell_type": "code",
   "execution_count": 46,
   "id": "13599a72",
   "metadata": {},
   "outputs": [],
   "source": [
    "from sklearn import svm\n",
    "from sklearn import model_selection\n",
    "from sklearn.model_selection import cross_val_score\n",
    "from sklearn import metrics\n",
    "from sklearn.metrics import precision_score,recall_score,f1_score,accuracy_score\n"
   ]
  },
  {
   "cell_type": "markdown",
   "id": "c008db91",
   "metadata": {},
   "source": [
    "#### Create a function to collect the four standard evaluation metrics for SVM model in the normal testing results"
   ]
  },
  {
   "cell_type": "code",
   "execution_count": 47,
   "id": "0e68383c",
   "metadata": {},
   "outputs": [],
   "source": [
    "def svm_test(x_train_set,x_test_set):\n",
    "   \n",
    "    svm_clf = svm.LinearSVC(penalty='l2', C=1, random_state=123)\n",
    "    svm_clf.fit(x_train_set,y_train)\n",
    "\n",
    "    y_pred = svm_clf.predict(x_test_set)\n",
    "\n",
    "    return[precision_score(y_test, y_pred, average='micro'),\n",
    "           recall_score(y_test, y_pred, average='micro'),\n",
    "           f1_score(y_test, y_pred, average='micro'),\n",
    "           accuracy_score(y_test, y_pred)]"
   ]
  },
  {
   "cell_type": "markdown",
   "id": "23a8d144",
   "metadata": {},
   "source": [
    "**Note**: 'LinearSVC' uses only for linear kernel. For non-linear kernel(eg.RBF) applies 'SVC'"
   ]
  },
  {
   "cell_type": "markdown",
   "id": "368f1559",
   "metadata": {},
   "source": [
    "#### Display a four standard evaluation metrics for TF-IDF model with unigram and 1000 matrix size (normal testing results)"
   ]
  },
  {
   "cell_type": "code",
   "execution_count": 48,
   "id": "d432545b",
   "metadata": {},
   "outputs": [
    {
     "data": {
      "text/plain": [
       "[0.44944707740916273,\n",
       " 0.44944707740916273,\n",
       " 0.44944707740916273,\n",
       " 0.44944707740916273]"
      ]
     },
     "execution_count": 48,
     "metadata": {},
     "output_type": "execute_result"
    }
   ],
   "source": [
    "svm_test(x_train_1_u,x_test_1_u)"
   ]
  },
  {
   "cell_type": "markdown",
   "id": "6877ed64",
   "metadata": {},
   "source": [
    "#### Create a function to collect the four standard evaluation metrics for SVM model in the 10-fold CV testing results"
   ]
  },
  {
   "cell_type": "markdown",
   "id": "b1a0ad1f",
   "metadata": {},
   "source": [
    "**Note**: Applying 'model_selection.KFold' on the Cross-Validation testing, using for testing the 10 folds without replacement"
   ]
  },
  {
   "cell_type": "code",
   "execution_count": 49,
   "id": "6d5f73e9",
   "metadata": {},
   "outputs": [],
   "source": [
    "def svm_cv_test(x_train_set, x_test_set):\n",
    "\n",
    "    svm_clf = svm.LinearSVC(penalty='l2', C=1, random_state=123)\n",
    "    kfold = model_selection.KFold(n_splits=10, shuffle=True, random_state=123)\n",
    "\n",
    "    svm_clf.fit(x_train_set, y_train)\n",
    "\n",
    "    return[cross_val_score(svm_clf, x_test_set, y_test, cv=kfold, scoring='precision_weighted').mean(),\n",
    "           cross_val_score(svm_clf, x_test_set, y_test, cv=kfold,\n",
    "                           scoring='recall_weighted').mean(),\n",
    "           cross_val_score(svm_clf, x_test_set, y_test,\n",
    "                           cv=kfold, scoring='f1_weighted').mean(),\n",
    "           cross_val_score(svm_clf, x_test_set, y_test, cv=kfold, scoring='accuracy').mean()]"
   ]
  },
  {
   "cell_type": "markdown",
   "id": "6c6f1a28",
   "metadata": {},
   "source": [
    "#### Display a four standard evaluation metrics for TF-IDF model with unigram and 1000 matrix size (CV testing results)"
   ]
  },
  {
   "cell_type": "code",
   "execution_count": 50,
   "id": "2568516c",
   "metadata": {},
   "outputs": [
    {
     "data": {
      "text/plain": [
       "[0.8452446104001607, 0.842539230662408, 0.841866915905172, 0.842539230662408]"
      ]
     },
     "execution_count": 50,
     "metadata": {},
     "output_type": "execute_result"
    }
   ],
   "source": [
    "svm_cv_test(x_train_1_u,x_test_1_u)"
   ]
  },
  {
   "cell_type": "markdown",
   "id": "5aaac76c",
   "metadata": {},
   "source": [
    "#### Create a dataframe to capture the four standard testing results for the whole TF-IDF models in SVM "
   ]
  },
  {
   "cell_type": "code",
   "execution_count": 51,
   "id": "c442db32",
   "metadata": {},
   "outputs": [
    {
     "data": {
      "text/html": [
       "<div>\n",
       "<style scoped>\n",
       "    .dataframe tbody tr th:only-of-type {\n",
       "        vertical-align: middle;\n",
       "    }\n",
       "\n",
       "    .dataframe tbody tr th {\n",
       "        vertical-align: top;\n",
       "    }\n",
       "\n",
       "    .dataframe thead th {\n",
       "        text-align: right;\n",
       "    }\n",
       "</style>\n",
       "<table border=\"1\" class=\"dataframe\">\n",
       "  <thead>\n",
       "    <tr style=\"text-align: right;\">\n",
       "      <th></th>\n",
       "      <th>Precision</th>\n",
       "      <th>Recall</th>\n",
       "      <th>F1</th>\n",
       "      <th>Accuracy</th>\n",
       "    </tr>\n",
       "  </thead>\n",
       "  <tbody>\n",
       "    <tr>\n",
       "      <th>Unigram</th>\n",
       "      <td>0.449447</td>\n",
       "      <td>0.449447</td>\n",
       "      <td>0.449447</td>\n",
       "      <td>0.449447</td>\n",
       "    </tr>\n",
       "    <tr>\n",
       "      <th></th>\n",
       "      <td>0.397841</td>\n",
       "      <td>0.397841</td>\n",
       "      <td>0.397841</td>\n",
       "      <td>0.397841</td>\n",
       "    </tr>\n",
       "    <tr>\n",
       "      <th>Bigram</th>\n",
       "      <td>0.398894</td>\n",
       "      <td>0.398894</td>\n",
       "      <td>0.398894</td>\n",
       "      <td>0.398894</td>\n",
       "    </tr>\n",
       "    <tr>\n",
       "      <th></th>\n",
       "      <td>0.386783</td>\n",
       "      <td>0.386783</td>\n",
       "      <td>0.386783</td>\n",
       "      <td>0.386783</td>\n",
       "    </tr>\n",
       "    <tr>\n",
       "      <th>Trigram</th>\n",
       "      <td>0.384939</td>\n",
       "      <td>0.384939</td>\n",
       "      <td>0.384939</td>\n",
       "      <td>0.384939</td>\n",
       "    </tr>\n",
       "    <tr>\n",
       "      <th></th>\n",
       "      <td>0.416272</td>\n",
       "      <td>0.416272</td>\n",
       "      <td>0.416272</td>\n",
       "      <td>0.416272</td>\n",
       "    </tr>\n",
       "    <tr>\n",
       "      <th>Four-gram</th>\n",
       "      <td>0.433386</td>\n",
       "      <td>0.433386</td>\n",
       "      <td>0.433386</td>\n",
       "      <td>0.433386</td>\n",
       "    </tr>\n",
       "    <tr>\n",
       "      <th></th>\n",
       "      <td>0.382570</td>\n",
       "      <td>0.382570</td>\n",
       "      <td>0.382570</td>\n",
       "      <td>0.382570</td>\n",
       "    </tr>\n",
       "  </tbody>\n",
       "</table>\n",
       "</div>"
      ],
      "text/plain": [
       "           Precision    Recall        F1  Accuracy\n",
       "Unigram     0.449447  0.449447  0.449447  0.449447\n",
       "            0.397841  0.397841  0.397841  0.397841\n",
       "Bigram      0.398894  0.398894  0.398894  0.398894\n",
       "            0.386783  0.386783  0.386783  0.386783\n",
       "Trigram     0.384939  0.384939  0.384939  0.384939\n",
       "            0.416272  0.416272  0.416272  0.416272\n",
       "Four-gram   0.433386  0.433386  0.433386  0.433386\n",
       "            0.382570  0.382570  0.382570  0.382570"
      ]
     },
     "execution_count": 51,
     "metadata": {},
     "output_type": "execute_result"
    }
   ],
   "source": [
    "svm_test_dataframe = pd.DataFrame([svm_test(x_train_1_u, x_test_1_u),\n",
    "                                   svm_test(x_train_3_u, x_test_3_u),\n",
    "                                   svm_test(x_train_1_b, x_test_1_b),\n",
    "                                   svm_test(x_train_3_b, x_test_3_b),\n",
    "                                   svm_test(x_train_1_t, x_test_1_t),\n",
    "                                   svm_test(x_train_3_t, x_test_3_t),\n",
    "                                   svm_test(x_train_1_f, x_test_1_f),\n",
    "                                   svm_test(x_train_3_f, x_test_3_f)],\n",
    "                                  columns=['Precision', 'Recall', 'F1', 'Accuracy'],\n",
    "                                  index=['Unigram', '', 'Bigram', '', 'Trigram', '', 'Four-gram', ''])\n",
    "\n",
    "svm_test_dataframe"
   ]
  },
  {
   "cell_type": "markdown",
   "id": "ef290ffb",
   "metadata": {},
   "source": [
    "#### Create a dataframe to capture the four standard CV testing results for the whole TF-IDF models in SVM "
   ]
  },
  {
   "cell_type": "code",
   "execution_count": 52,
   "id": "14470773",
   "metadata": {},
   "outputs": [
    {
     "data": {
      "text/html": [
       "<div>\n",
       "<style scoped>\n",
       "    .dataframe tbody tr th:only-of-type {\n",
       "        vertical-align: middle;\n",
       "    }\n",
       "\n",
       "    .dataframe tbody tr th {\n",
       "        vertical-align: top;\n",
       "    }\n",
       "\n",
       "    .dataframe thead th {\n",
       "        text-align: right;\n",
       "    }\n",
       "</style>\n",
       "<table border=\"1\" class=\"dataframe\">\n",
       "  <thead>\n",
       "    <tr style=\"text-align: right;\">\n",
       "      <th></th>\n",
       "      <th>Precision(CV=10)</th>\n",
       "      <th>Recall(CV=10)</th>\n",
       "      <th>F1(CV=10)</th>\n",
       "      <th>Accuracy(CV=10)</th>\n",
       "    </tr>\n",
       "  </thead>\n",
       "  <tbody>\n",
       "    <tr>\n",
       "      <th>Unigram</th>\n",
       "      <td>0.845245</td>\n",
       "      <td>0.842539</td>\n",
       "      <td>0.841867</td>\n",
       "      <td>0.842539</td>\n",
       "    </tr>\n",
       "    <tr>\n",
       "      <th></th>\n",
       "      <td>0.831986</td>\n",
       "      <td>0.827544</td>\n",
       "      <td>0.827162</td>\n",
       "      <td>0.827544</td>\n",
       "    </tr>\n",
       "    <tr>\n",
       "      <th>Bigram</th>\n",
       "      <td>0.835262</td>\n",
       "      <td>0.832539</td>\n",
       "      <td>0.831770</td>\n",
       "      <td>0.832539</td>\n",
       "    </tr>\n",
       "    <tr>\n",
       "      <th></th>\n",
       "      <td>0.813169</td>\n",
       "      <td>0.809903</td>\n",
       "      <td>0.809299</td>\n",
       "      <td>0.809903</td>\n",
       "    </tr>\n",
       "    <tr>\n",
       "      <th>Trigram</th>\n",
       "      <td>0.829982</td>\n",
       "      <td>0.826750</td>\n",
       "      <td>0.825835</td>\n",
       "      <td>0.826750</td>\n",
       "    </tr>\n",
       "    <tr>\n",
       "      <th></th>\n",
       "      <td>0.814724</td>\n",
       "      <td>0.811485</td>\n",
       "      <td>0.811000</td>\n",
       "      <td>0.811485</td>\n",
       "    </tr>\n",
       "    <tr>\n",
       "      <th>Four-gram</th>\n",
       "      <td>0.826849</td>\n",
       "      <td>0.823848</td>\n",
       "      <td>0.823038</td>\n",
       "      <td>0.823848</td>\n",
       "    </tr>\n",
       "    <tr>\n",
       "      <th></th>\n",
       "      <td>0.816391</td>\n",
       "      <td>0.813591</td>\n",
       "      <td>0.812968</td>\n",
       "      <td>0.813591</td>\n",
       "    </tr>\n",
       "  </tbody>\n",
       "</table>\n",
       "</div>"
      ],
      "text/plain": [
       "           Precision(CV=10)  Recall(CV=10)  F1(CV=10)  Accuracy(CV=10)\n",
       "Unigram            0.845245       0.842539   0.841867         0.842539\n",
       "                   0.831986       0.827544   0.827162         0.827544\n",
       "Bigram             0.835262       0.832539   0.831770         0.832539\n",
       "                   0.813169       0.809903   0.809299         0.809903\n",
       "Trigram            0.829982       0.826750   0.825835         0.826750\n",
       "                   0.814724       0.811485   0.811000         0.811485\n",
       "Four-gram          0.826849       0.823848   0.823038         0.823848\n",
       "                   0.816391       0.813591   0.812968         0.813591"
      ]
     },
     "execution_count": 52,
     "metadata": {},
     "output_type": "execute_result"
    }
   ],
   "source": [
    "svm_cv_dataframe = pd.DataFrame([svm_cv_test(x_train_1_u, x_test_1_u),\n",
    "                                 svm_cv_test(x_train_3_u, x_test_3_u),\n",
    "                                 svm_cv_test(x_train_1_b, x_test_1_b),\n",
    "                                 svm_cv_test(x_train_3_b, x_test_3_b),\n",
    "                                 svm_cv_test(x_train_1_t, x_test_1_t),\n",
    "                                 svm_cv_test(x_train_3_t, x_test_3_t),\n",
    "                                 svm_cv_test(x_train_1_f, x_test_1_f),\n",
    "                                 svm_cv_test(x_train_3_f, x_test_3_f)],\n",
    "                                columns=['Precision(CV=10)', 'Recall(CV=10)', 'F1(CV=10)', 'Accuracy(CV=10)'],\n",
    "                                index=['Unigram', '', 'Bigram', '', 'Trigram', '', 'Four-gram', ''])\n",
    "\n",
    "svm_cv_dataframe"
   ]
  },
  {
   "cell_type": "markdown",
   "id": "6e6a3859",
   "metadata": {},
   "source": [
    "#### Create a dataframe to combine two dataframes above, columns outside the intersection will be filled by both of the first same column"
   ]
  },
  {
   "cell_type": "code",
   "execution_count": 53,
   "id": "7da61066",
   "metadata": {},
   "outputs": [
    {
     "data": {
      "text/html": [
       "<div>\n",
       "<style scoped>\n",
       "    .dataframe tbody tr th:only-of-type {\n",
       "        vertical-align: middle;\n",
       "    }\n",
       "\n",
       "    .dataframe tbody tr th {\n",
       "        vertical-align: top;\n",
       "    }\n",
       "\n",
       "    .dataframe thead th {\n",
       "        text-align: right;\n",
       "    }\n",
       "</style>\n",
       "<table border=\"1\" class=\"dataframe\">\n",
       "  <thead>\n",
       "    <tr style=\"text-align: right;\">\n",
       "      <th></th>\n",
       "      <th>Distance</th>\n",
       "      <th>Precision</th>\n",
       "      <th>Recall</th>\n",
       "      <th>F1</th>\n",
       "      <th>Accuracy</th>\n",
       "      <th>Precision(CV=10)</th>\n",
       "      <th>Recall(CV=10)</th>\n",
       "      <th>F1(CV=10)</th>\n",
       "      <th>Accuracy(CV=10)</th>\n",
       "    </tr>\n",
       "  </thead>\n",
       "  <tbody>\n",
       "    <tr>\n",
       "      <th>Unigram</th>\n",
       "      <td>1000</td>\n",
       "      <td>0.449447</td>\n",
       "      <td>0.449447</td>\n",
       "      <td>0.449447</td>\n",
       "      <td>0.449447</td>\n",
       "      <td>0.845245</td>\n",
       "      <td>0.842539</td>\n",
       "      <td>0.841867</td>\n",
       "      <td>0.842539</td>\n",
       "    </tr>\n",
       "    <tr>\n",
       "      <th></th>\n",
       "      <td>3000</td>\n",
       "      <td>0.397841</td>\n",
       "      <td>0.397841</td>\n",
       "      <td>0.397841</td>\n",
       "      <td>0.397841</td>\n",
       "      <td>0.831986</td>\n",
       "      <td>0.827544</td>\n",
       "      <td>0.827162</td>\n",
       "      <td>0.827544</td>\n",
       "    </tr>\n",
       "    <tr>\n",
       "      <th>Bigram</th>\n",
       "      <td>1000</td>\n",
       "      <td>0.398894</td>\n",
       "      <td>0.398894</td>\n",
       "      <td>0.398894</td>\n",
       "      <td>0.398894</td>\n",
       "      <td>0.835262</td>\n",
       "      <td>0.832539</td>\n",
       "      <td>0.831770</td>\n",
       "      <td>0.832539</td>\n",
       "    </tr>\n",
       "    <tr>\n",
       "      <th></th>\n",
       "      <td>3000</td>\n",
       "      <td>0.386783</td>\n",
       "      <td>0.386783</td>\n",
       "      <td>0.386783</td>\n",
       "      <td>0.386783</td>\n",
       "      <td>0.813169</td>\n",
       "      <td>0.809903</td>\n",
       "      <td>0.809299</td>\n",
       "      <td>0.809903</td>\n",
       "    </tr>\n",
       "    <tr>\n",
       "      <th>Trigram</th>\n",
       "      <td>1000</td>\n",
       "      <td>0.384939</td>\n",
       "      <td>0.384939</td>\n",
       "      <td>0.384939</td>\n",
       "      <td>0.384939</td>\n",
       "      <td>0.829982</td>\n",
       "      <td>0.826750</td>\n",
       "      <td>0.825835</td>\n",
       "      <td>0.826750</td>\n",
       "    </tr>\n",
       "    <tr>\n",
       "      <th></th>\n",
       "      <td>3000</td>\n",
       "      <td>0.416272</td>\n",
       "      <td>0.416272</td>\n",
       "      <td>0.416272</td>\n",
       "      <td>0.416272</td>\n",
       "      <td>0.814724</td>\n",
       "      <td>0.811485</td>\n",
       "      <td>0.811000</td>\n",
       "      <td>0.811485</td>\n",
       "    </tr>\n",
       "    <tr>\n",
       "      <th>Four-gram</th>\n",
       "      <td>1000</td>\n",
       "      <td>0.433386</td>\n",
       "      <td>0.433386</td>\n",
       "      <td>0.433386</td>\n",
       "      <td>0.433386</td>\n",
       "      <td>0.826849</td>\n",
       "      <td>0.823848</td>\n",
       "      <td>0.823038</td>\n",
       "      <td>0.823848</td>\n",
       "    </tr>\n",
       "    <tr>\n",
       "      <th></th>\n",
       "      <td>3000</td>\n",
       "      <td>0.382570</td>\n",
       "      <td>0.382570</td>\n",
       "      <td>0.382570</td>\n",
       "      <td>0.382570</td>\n",
       "      <td>0.816391</td>\n",
       "      <td>0.813591</td>\n",
       "      <td>0.812968</td>\n",
       "      <td>0.813591</td>\n",
       "    </tr>\n",
       "  </tbody>\n",
       "</table>\n",
       "</div>"
      ],
      "text/plain": [
       "           Distance  Precision    Recall        F1  Accuracy  \\\n",
       "Unigram        1000   0.449447  0.449447  0.449447  0.449447   \n",
       "               3000   0.397841  0.397841  0.397841  0.397841   \n",
       "Bigram         1000   0.398894  0.398894  0.398894  0.398894   \n",
       "               3000   0.386783  0.386783  0.386783  0.386783   \n",
       "Trigram        1000   0.384939  0.384939  0.384939  0.384939   \n",
       "               3000   0.416272  0.416272  0.416272  0.416272   \n",
       "Four-gram      1000   0.433386  0.433386  0.433386  0.433386   \n",
       "               3000   0.382570  0.382570  0.382570  0.382570   \n",
       "\n",
       "           Precision(CV=10)  Recall(CV=10)  F1(CV=10)  Accuracy(CV=10)  \n",
       "Unigram            0.845245       0.842539   0.841867         0.842539  \n",
       "                   0.831986       0.827544   0.827162         0.827544  \n",
       "Bigram             0.835262       0.832539   0.831770         0.832539  \n",
       "                   0.813169       0.809903   0.809299         0.809903  \n",
       "Trigram            0.829982       0.826750   0.825835         0.826750  \n",
       "                   0.814724       0.811485   0.811000         0.811485  \n",
       "Four-gram          0.826849       0.823848   0.823038         0.823848  \n",
       "                   0.816391       0.813591   0.812968         0.813591  "
      ]
     },
     "execution_count": 53,
     "metadata": {},
     "output_type": "execute_result"
    }
   ],
   "source": [
    "svm_res = pd.concat([svm_test_dataframe, svm_cv_dataframe], axis=1, join='outer')\n",
    "svm_res.insert(0, 'Distance', [1000, 3000, 1000, 3000, 1000, 3000, 1000, 3000])\n",
    "\n",
    "svm_res"
   ]
  },
  {
   "cell_type": "markdown",
   "id": "e4d1d598",
   "metadata": {},
   "source": [
    "#### Save the dataframe"
   ]
  },
  {
   "cell_type": "code",
   "execution_count": 54,
   "id": "4895d8f0",
   "metadata": {},
   "outputs": [],
   "source": [
    "svm_res.to_csv('SVM_result.csv',encoding = 'utf8')                         "
   ]
  },
  {
   "cell_type": "markdown",
   "id": "be8e4958",
   "metadata": {},
   "source": [
    "# K-NN\n",
    "- For choosing the number of nearest neighbors, in this work ,we use the default format as 5 "
   ]
  },
  {
   "cell_type": "code",
   "execution_count": 55,
   "id": "ffaecfa6",
   "metadata": {},
   "outputs": [],
   "source": [
    "from sklearn.neighbors import KNeighborsClassifier\n",
    "from sklearn  import  metrics"
   ]
  },
  {
   "cell_type": "markdown",
   "id": "5f8adebc",
   "metadata": {},
   "source": [
    "#### Create a function to collect the four standard evaluation metrics for KNN model in the normal testing results"
   ]
  },
  {
   "cell_type": "code",
   "execution_count": 56,
   "id": "8ae39ce5",
   "metadata": {},
   "outputs": [],
   "source": [
    "def knn_test(x_train_set,x_test_set):\n",
    "    \n",
    "    knn_clf = KNeighborsClassifier()\n",
    "    knn_clf.fit(x_train_set,y_train)\n",
    "    \n",
    "    y_pred = knn_clf.predict(x_test_set)\n",
    "\n",
    "    return[precision_score(y_test, y_pred, average='micro'),\n",
    "           recall_score(y_test, y_pred, average='micro'),\n",
    "           f1_score(y_test, y_pred, average='micro'),\n",
    "           accuracy_score(y_test, y_pred)]"
   ]
  },
  {
   "cell_type": "markdown",
   "id": "c730eeac",
   "metadata": {},
   "source": [
    "#### Create a function to collect the four standard evaluation metrics for KNN model in the 10-fold CV testing results"
   ]
  },
  {
   "cell_type": "markdown",
   "id": "3abdfd2e",
   "metadata": {},
   "source": [
    "**Note**: Applying 'model_selection.KFold' on the Cross-Validation testing, using for testing the 10 folds without replacement"
   ]
  },
  {
   "cell_type": "code",
   "execution_count": 57,
   "id": "9ef01f58",
   "metadata": {},
   "outputs": [],
   "source": [
    "def knn_cv_test(x_train_set, x_test_set):\n",
    "\n",
    "    knn_clf = KNeighborsClassifier()\n",
    "    kfold = model_selection.KFold(n_splits=10, shuffle=True, random_state=123)\n",
    "\n",
    "    knn_clf.fit(x_train_set, y_train)\n",
    "\n",
    "    return[cross_val_score(knn_clf, x_test_set, y_test, cv=kfold, scoring='precision_weighted').mean(),\n",
    "           cross_val_score(knn_clf, x_test_set, y_test, cv=kfold,\n",
    "                           scoring='recall_weighted').mean(),\n",
    "           cross_val_score(knn_clf, x_test_set, y_test,\n",
    "                           cv=kfold, scoring='f1_weighted').mean(),\n",
    "           cross_val_score(knn_clf, x_test_set, y_test, cv=kfold, scoring='accuracy').mean()]"
   ]
  },
  {
   "cell_type": "markdown",
   "id": "7ed37bb9",
   "metadata": {},
   "source": [
    "#### Create a dataframe to capture the four standard testing results for the whole TF-IDF models in KNN"
   ]
  },
  {
   "cell_type": "code",
   "execution_count": 58,
   "id": "e9b4e673",
   "metadata": {},
   "outputs": [
    {
     "data": {
      "text/html": [
       "<div>\n",
       "<style scoped>\n",
       "    .dataframe tbody tr th:only-of-type {\n",
       "        vertical-align: middle;\n",
       "    }\n",
       "\n",
       "    .dataframe tbody tr th {\n",
       "        vertical-align: top;\n",
       "    }\n",
       "\n",
       "    .dataframe thead th {\n",
       "        text-align: right;\n",
       "    }\n",
       "</style>\n",
       "<table border=\"1\" class=\"dataframe\">\n",
       "  <thead>\n",
       "    <tr style=\"text-align: right;\">\n",
       "      <th></th>\n",
       "      <th>Precision</th>\n",
       "      <th>Recall</th>\n",
       "      <th>F1</th>\n",
       "      <th>Accuracy</th>\n",
       "    </tr>\n",
       "  </thead>\n",
       "  <tbody>\n",
       "    <tr>\n",
       "      <th>Unigram</th>\n",
       "      <td>0.352291</td>\n",
       "      <td>0.352291</td>\n",
       "      <td>0.352291</td>\n",
       "      <td>0.352291</td>\n",
       "    </tr>\n",
       "    <tr>\n",
       "      <th></th>\n",
       "      <td>0.354924</td>\n",
       "      <td>0.354924</td>\n",
       "      <td>0.354924</td>\n",
       "      <td>0.354924</td>\n",
       "    </tr>\n",
       "    <tr>\n",
       "      <th>Bigram</th>\n",
       "      <td>0.352817</td>\n",
       "      <td>0.352817</td>\n",
       "      <td>0.352817</td>\n",
       "      <td>0.352817</td>\n",
       "    </tr>\n",
       "    <tr>\n",
       "      <th></th>\n",
       "      <td>0.354660</td>\n",
       "      <td>0.354660</td>\n",
       "      <td>0.354660</td>\n",
       "      <td>0.354660</td>\n",
       "    </tr>\n",
       "    <tr>\n",
       "      <th>Trigram</th>\n",
       "      <td>0.354397</td>\n",
       "      <td>0.354397</td>\n",
       "      <td>0.354397</td>\n",
       "      <td>0.354397</td>\n",
       "    </tr>\n",
       "    <tr>\n",
       "      <th></th>\n",
       "      <td>0.355977</td>\n",
       "      <td>0.355977</td>\n",
       "      <td>0.355977</td>\n",
       "      <td>0.355977</td>\n",
       "    </tr>\n",
       "    <tr>\n",
       "      <th>Four-gram</th>\n",
       "      <td>0.353870</td>\n",
       "      <td>0.353870</td>\n",
       "      <td>0.353870</td>\n",
       "      <td>0.353870</td>\n",
       "    </tr>\n",
       "    <tr>\n",
       "      <th></th>\n",
       "      <td>0.355450</td>\n",
       "      <td>0.355450</td>\n",
       "      <td>0.355450</td>\n",
       "      <td>0.355450</td>\n",
       "    </tr>\n",
       "  </tbody>\n",
       "</table>\n",
       "</div>"
      ],
      "text/plain": [
       "           Precision    Recall        F1  Accuracy\n",
       "Unigram     0.352291  0.352291  0.352291  0.352291\n",
       "            0.354924  0.354924  0.354924  0.354924\n",
       "Bigram      0.352817  0.352817  0.352817  0.352817\n",
       "            0.354660  0.354660  0.354660  0.354660\n",
       "Trigram     0.354397  0.354397  0.354397  0.354397\n",
       "            0.355977  0.355977  0.355977  0.355977\n",
       "Four-gram   0.353870  0.353870  0.353870  0.353870\n",
       "            0.355450  0.355450  0.355450  0.355450"
      ]
     },
     "execution_count": 58,
     "metadata": {},
     "output_type": "execute_result"
    }
   ],
   "source": [
    "    \n",
    "knn_test_dataframe = pd.DataFrame([knn_test(x_train_1_u, x_test_1_u),\n",
    "                                   knn_test(x_train_3_u, x_test_3_u),\n",
    "                                   knn_test(x_train_1_b, x_test_1_b),\n",
    "                                   knn_test(x_train_3_b, x_test_3_b),\n",
    "                                   knn_test(x_train_1_t, x_test_1_t),\n",
    "                                   knn_test(x_train_3_t, x_test_3_t),\n",
    "                                   knn_test(x_train_1_f, x_test_1_f),\n",
    "                                   knn_test(x_train_3_f, x_test_3_f)],\n",
    "                                  columns=['Precision', 'Recall', 'F1', 'Accuracy'],\n",
    "                                  index=['Unigram', '', 'Bigram', '', 'Trigram', '', 'Four-gram', ''])\n",
    "\n",
    "knn_test_dataframe"
   ]
  },
  {
   "cell_type": "markdown",
   "id": "08c5658c",
   "metadata": {},
   "source": [
    "#### Create a dataframe to capture the four standard CV testing results for the whole TF-IDF models in KNN"
   ]
  },
  {
   "cell_type": "code",
   "execution_count": 59,
   "id": "5ed6f10b",
   "metadata": {},
   "outputs": [
    {
     "name": "stderr",
     "output_type": "stream",
     "text": [
      "/Users/baihaicen/opt/anaconda3/lib/python3.9/site-packages/sklearn/metrics/_classification.py:1248: UndefinedMetricWarning: Precision is ill-defined and being set to 0.0 in labels with no predicted samples. Use `zero_division` parameter to control this behavior.\n",
      "  _warn_prf(average, modifier, msg_start, len(result))\n",
      "/Users/baihaicen/opt/anaconda3/lib/python3.9/site-packages/sklearn/metrics/_classification.py:1248: UndefinedMetricWarning: Precision is ill-defined and being set to 0.0 in labels with no predicted samples. Use `zero_division` parameter to control this behavior.\n",
      "  _warn_prf(average, modifier, msg_start, len(result))\n",
      "/Users/baihaicen/opt/anaconda3/lib/python3.9/site-packages/sklearn/metrics/_classification.py:1248: UndefinedMetricWarning: Precision is ill-defined and being set to 0.0 in labels with no predicted samples. Use `zero_division` parameter to control this behavior.\n",
      "  _warn_prf(average, modifier, msg_start, len(result))\n",
      "/Users/baihaicen/opt/anaconda3/lib/python3.9/site-packages/sklearn/metrics/_classification.py:1248: UndefinedMetricWarning: Precision is ill-defined and being set to 0.0 in labels with no predicted samples. Use `zero_division` parameter to control this behavior.\n",
      "  _warn_prf(average, modifier, msg_start, len(result))\n",
      "/Users/baihaicen/opt/anaconda3/lib/python3.9/site-packages/sklearn/metrics/_classification.py:1248: UndefinedMetricWarning: Precision is ill-defined and being set to 0.0 in labels with no predicted samples. Use `zero_division` parameter to control this behavior.\n",
      "  _warn_prf(average, modifier, msg_start, len(result))\n",
      "/Users/baihaicen/opt/anaconda3/lib/python3.9/site-packages/sklearn/metrics/_classification.py:1248: UndefinedMetricWarning: Precision is ill-defined and being set to 0.0 in labels with no predicted samples. Use `zero_division` parameter to control this behavior.\n",
      "  _warn_prf(average, modifier, msg_start, len(result))\n"
     ]
    },
    {
     "data": {
      "text/html": [
       "<div>\n",
       "<style scoped>\n",
       "    .dataframe tbody tr th:only-of-type {\n",
       "        vertical-align: middle;\n",
       "    }\n",
       "\n",
       "    .dataframe tbody tr th {\n",
       "        vertical-align: top;\n",
       "    }\n",
       "\n",
       "    .dataframe thead th {\n",
       "        text-align: right;\n",
       "    }\n",
       "</style>\n",
       "<table border=\"1\" class=\"dataframe\">\n",
       "  <thead>\n",
       "    <tr style=\"text-align: right;\">\n",
       "      <th></th>\n",
       "      <th>Precision(CV=10)</th>\n",
       "      <th>Recall(CV=10)</th>\n",
       "      <th>F1(CV=10)</th>\n",
       "      <th>Accuracy(CV=10)</th>\n",
       "    </tr>\n",
       "  </thead>\n",
       "  <tbody>\n",
       "    <tr>\n",
       "      <th>Unigram</th>\n",
       "      <td>0.668553</td>\n",
       "      <td>0.365985</td>\n",
       "      <td>0.210322</td>\n",
       "      <td>0.365985</td>\n",
       "    </tr>\n",
       "    <tr>\n",
       "      <th></th>\n",
       "      <td>0.533988</td>\n",
       "      <td>0.363351</td>\n",
       "      <td>0.203090</td>\n",
       "      <td>0.363351</td>\n",
       "    </tr>\n",
       "    <tr>\n",
       "      <th>Bigram</th>\n",
       "      <td>0.654390</td>\n",
       "      <td>0.370723</td>\n",
       "      <td>0.221228</td>\n",
       "      <td>0.370723</td>\n",
       "    </tr>\n",
       "    <tr>\n",
       "      <th></th>\n",
       "      <td>0.669562</td>\n",
       "      <td>0.365193</td>\n",
       "      <td>0.207005</td>\n",
       "      <td>0.365193</td>\n",
       "    </tr>\n",
       "    <tr>\n",
       "      <th>Trigram</th>\n",
       "      <td>0.654615</td>\n",
       "      <td>0.375201</td>\n",
       "      <td>0.230550</td>\n",
       "      <td>0.375201</td>\n",
       "    </tr>\n",
       "    <tr>\n",
       "      <th></th>\n",
       "      <td>0.701398</td>\n",
       "      <td>0.367564</td>\n",
       "      <td>0.212233</td>\n",
       "      <td>0.367564</td>\n",
       "    </tr>\n",
       "    <tr>\n",
       "      <th>Four-gram</th>\n",
       "      <td>0.654285</td>\n",
       "      <td>0.375464</td>\n",
       "      <td>0.231450</td>\n",
       "      <td>0.375464</td>\n",
       "    </tr>\n",
       "    <tr>\n",
       "      <th></th>\n",
       "      <td>0.682713</td>\n",
       "      <td>0.368354</td>\n",
       "      <td>0.214595</td>\n",
       "      <td>0.368354</td>\n",
       "    </tr>\n",
       "  </tbody>\n",
       "</table>\n",
       "</div>"
      ],
      "text/plain": [
       "           Precision(CV=10)  Recall(CV=10)  F1(CV=10)  Accuracy(CV=10)\n",
       "Unigram            0.668553       0.365985   0.210322         0.365985\n",
       "                   0.533988       0.363351   0.203090         0.363351\n",
       "Bigram             0.654390       0.370723   0.221228         0.370723\n",
       "                   0.669562       0.365193   0.207005         0.365193\n",
       "Trigram            0.654615       0.375201   0.230550         0.375201\n",
       "                   0.701398       0.367564   0.212233         0.367564\n",
       "Four-gram          0.654285       0.375464   0.231450         0.375464\n",
       "                   0.682713       0.368354   0.214595         0.368354"
      ]
     },
     "execution_count": 59,
     "metadata": {},
     "output_type": "execute_result"
    }
   ],
   "source": [
    "knn_cv_dataframe = pd.DataFrame([knn_cv_test(x_train_1_u, x_test_1_u),\n",
    "                                 knn_cv_test(x_train_3_u, x_test_3_u),\n",
    "                                 knn_cv_test(x_train_1_b, x_test_1_b),\n",
    "                                 knn_cv_test(x_train_3_b, x_test_3_b),\n",
    "                                 knn_cv_test(x_train_1_t, x_test_1_t),\n",
    "                                 knn_cv_test(x_train_3_t, x_test_3_t),\n",
    "                                 knn_cv_test(x_train_1_f, x_test_1_f),\n",
    "                                 knn_cv_test(x_train_3_f, x_test_3_f)],\n",
    "                                columns=['Precision(CV=10)', 'Recall(CV=10)', 'F1(CV=10)', 'Accuracy(CV=10)'],\n",
    "                                index=['Unigram', '', 'Bigram', '', 'Trigram', '', 'Four-gram', ''])\n",
    "\n",
    "knn_cv_dataframe"
   ]
  },
  {
   "cell_type": "markdown",
   "id": "e2f92632",
   "metadata": {},
   "source": [
    "#### Create a dataframe to combine two dataframes above, columns outside the intersection will be filled by both of the first same column"
   ]
  },
  {
   "cell_type": "code",
   "execution_count": 60,
   "id": "2db635c3",
   "metadata": {},
   "outputs": [
    {
     "data": {
      "text/html": [
       "<div>\n",
       "<style scoped>\n",
       "    .dataframe tbody tr th:only-of-type {\n",
       "        vertical-align: middle;\n",
       "    }\n",
       "\n",
       "    .dataframe tbody tr th {\n",
       "        vertical-align: top;\n",
       "    }\n",
       "\n",
       "    .dataframe thead th {\n",
       "        text-align: right;\n",
       "    }\n",
       "</style>\n",
       "<table border=\"1\" class=\"dataframe\">\n",
       "  <thead>\n",
       "    <tr style=\"text-align: right;\">\n",
       "      <th></th>\n",
       "      <th>Distance</th>\n",
       "      <th>Precision</th>\n",
       "      <th>Recall</th>\n",
       "      <th>F1</th>\n",
       "      <th>Accuracy</th>\n",
       "      <th>Precision(CV=10)</th>\n",
       "      <th>Recall(CV=10)</th>\n",
       "      <th>F1(CV=10)</th>\n",
       "      <th>Accuracy(CV=10)</th>\n",
       "    </tr>\n",
       "  </thead>\n",
       "  <tbody>\n",
       "    <tr>\n",
       "      <th>Unigram</th>\n",
       "      <td>1000</td>\n",
       "      <td>0.352291</td>\n",
       "      <td>0.352291</td>\n",
       "      <td>0.352291</td>\n",
       "      <td>0.352291</td>\n",
       "      <td>0.668553</td>\n",
       "      <td>0.365985</td>\n",
       "      <td>0.210322</td>\n",
       "      <td>0.365985</td>\n",
       "    </tr>\n",
       "    <tr>\n",
       "      <th></th>\n",
       "      <td>3000</td>\n",
       "      <td>0.354924</td>\n",
       "      <td>0.354924</td>\n",
       "      <td>0.354924</td>\n",
       "      <td>0.354924</td>\n",
       "      <td>0.533988</td>\n",
       "      <td>0.363351</td>\n",
       "      <td>0.203090</td>\n",
       "      <td>0.363351</td>\n",
       "    </tr>\n",
       "    <tr>\n",
       "      <th>Bigram</th>\n",
       "      <td>1000</td>\n",
       "      <td>0.352817</td>\n",
       "      <td>0.352817</td>\n",
       "      <td>0.352817</td>\n",
       "      <td>0.352817</td>\n",
       "      <td>0.654390</td>\n",
       "      <td>0.370723</td>\n",
       "      <td>0.221228</td>\n",
       "      <td>0.370723</td>\n",
       "    </tr>\n",
       "    <tr>\n",
       "      <th></th>\n",
       "      <td>3000</td>\n",
       "      <td>0.354660</td>\n",
       "      <td>0.354660</td>\n",
       "      <td>0.354660</td>\n",
       "      <td>0.354660</td>\n",
       "      <td>0.669562</td>\n",
       "      <td>0.365193</td>\n",
       "      <td>0.207005</td>\n",
       "      <td>0.365193</td>\n",
       "    </tr>\n",
       "    <tr>\n",
       "      <th>Trigram</th>\n",
       "      <td>1000</td>\n",
       "      <td>0.354397</td>\n",
       "      <td>0.354397</td>\n",
       "      <td>0.354397</td>\n",
       "      <td>0.354397</td>\n",
       "      <td>0.654615</td>\n",
       "      <td>0.375201</td>\n",
       "      <td>0.230550</td>\n",
       "      <td>0.375201</td>\n",
       "    </tr>\n",
       "    <tr>\n",
       "      <th></th>\n",
       "      <td>3000</td>\n",
       "      <td>0.355977</td>\n",
       "      <td>0.355977</td>\n",
       "      <td>0.355977</td>\n",
       "      <td>0.355977</td>\n",
       "      <td>0.701398</td>\n",
       "      <td>0.367564</td>\n",
       "      <td>0.212233</td>\n",
       "      <td>0.367564</td>\n",
       "    </tr>\n",
       "    <tr>\n",
       "      <th>Four-gram</th>\n",
       "      <td>1000</td>\n",
       "      <td>0.353870</td>\n",
       "      <td>0.353870</td>\n",
       "      <td>0.353870</td>\n",
       "      <td>0.353870</td>\n",
       "      <td>0.654285</td>\n",
       "      <td>0.375464</td>\n",
       "      <td>0.231450</td>\n",
       "      <td>0.375464</td>\n",
       "    </tr>\n",
       "    <tr>\n",
       "      <th></th>\n",
       "      <td>3000</td>\n",
       "      <td>0.355450</td>\n",
       "      <td>0.355450</td>\n",
       "      <td>0.355450</td>\n",
       "      <td>0.355450</td>\n",
       "      <td>0.682713</td>\n",
       "      <td>0.368354</td>\n",
       "      <td>0.214595</td>\n",
       "      <td>0.368354</td>\n",
       "    </tr>\n",
       "  </tbody>\n",
       "</table>\n",
       "</div>"
      ],
      "text/plain": [
       "           Distance  Precision    Recall        F1  Accuracy  \\\n",
       "Unigram        1000   0.352291  0.352291  0.352291  0.352291   \n",
       "               3000   0.354924  0.354924  0.354924  0.354924   \n",
       "Bigram         1000   0.352817  0.352817  0.352817  0.352817   \n",
       "               3000   0.354660  0.354660  0.354660  0.354660   \n",
       "Trigram        1000   0.354397  0.354397  0.354397  0.354397   \n",
       "               3000   0.355977  0.355977  0.355977  0.355977   \n",
       "Four-gram      1000   0.353870  0.353870  0.353870  0.353870   \n",
       "               3000   0.355450  0.355450  0.355450  0.355450   \n",
       "\n",
       "           Precision(CV=10)  Recall(CV=10)  F1(CV=10)  Accuracy(CV=10)  \n",
       "Unigram            0.668553       0.365985   0.210322         0.365985  \n",
       "                   0.533988       0.363351   0.203090         0.363351  \n",
       "Bigram             0.654390       0.370723   0.221228         0.370723  \n",
       "                   0.669562       0.365193   0.207005         0.365193  \n",
       "Trigram            0.654615       0.375201   0.230550         0.375201  \n",
       "                   0.701398       0.367564   0.212233         0.367564  \n",
       "Four-gram          0.654285       0.375464   0.231450         0.375464  \n",
       "                   0.682713       0.368354   0.214595         0.368354  "
      ]
     },
     "execution_count": 60,
     "metadata": {},
     "output_type": "execute_result"
    }
   ],
   "source": [
    "knn_res = pd.concat([knn_test_dataframe, knn_cv_dataframe], axis=1, join='outer')\n",
    "knn_res.insert(0, 'Distance', [1000, 3000, 1000, 3000, 1000, 3000, 1000, 3000])\n",
    "knn_res"
   ]
  },
  {
   "cell_type": "markdown",
   "id": "42112697",
   "metadata": {},
   "source": [
    "#### Save the dataframe"
   ]
  },
  {
   "cell_type": "code",
   "execution_count": 61,
   "id": "398d61dc",
   "metadata": {},
   "outputs": [],
   "source": [
    "knn_res.to_csv('KNN_result.csv',encoding = 'utf8')                         "
   ]
  },
  {
   "cell_type": "markdown",
   "id": "a2a5ca0e",
   "metadata": {},
   "source": [
    "# DT(Decision Tree)\n",
    "- To measure the degree of heterogeneity, in this work, we choose 'Gini' instead 'Entropy'. 'Gini' is way to improve the computational efficiency without the logarithm\n",
    "- The most significant factor is the node class impact on the accuracy of DT\n"
   ]
  },
  {
   "cell_type": "code",
   "execution_count": 64,
   "id": "885b2750",
   "metadata": {},
   "outputs": [],
   "source": [
    "from sklearn import tree\n",
    "from sklearn  import  metrics"
   ]
  },
  {
   "cell_type": "markdown",
   "id": "e4780096",
   "metadata": {},
   "source": [
    "### Accuracy Simulation \n",
    "#### To optimize the nodes class, here creates a loop with the number of replicates from 1 to 201 to learn each of the accuracy from 1 node class to 201 node classes in DT model; Then drawing the learning line chart"
   ]
  },
  {
   "cell_type": "code",
   "execution_count": 63,
   "id": "abd6ce28",
   "metadata": {
    "scrolled": false
   },
   "outputs": [
    {
     "data": {
      "image/png": "[encoded data removed]",
      "text/plain": [
       "<Figure size 720x576 with 1 Axes>"
      ]
     },
     "metadata": {
      "needs_background": "light"
     },
     "output_type": "display_data"
    }
   ],
   "source": [
    "dt_clf = tree.DecisionTreeClassifier(criterion='gini', random_state=123)\n",
    "dt_clf.fit(x_train_1_u,y_train)\n",
    "\n",
    "import matplotlib.pyplot as plt\n",
    "test=[]\n",
    "for i in range(200):\n",
    "    clf=tree.DecisionTreeClassifier(max_depth=i+1\n",
    "                                    ,criterion='gini'\n",
    "                                    ,random_state=123\n",
    "                                    ,splitter='random'\n",
    "                                    \n",
    "    )\n",
    "    \n",
    "    clf=clf.fit(x_train_1_f,y_train)\n",
    "    score=clf.score(x_test_1_f,y_test)\n",
    "    test.append(score)\n",
    "\n",
    "    \n",
    "max_index=np.argmax(test)\n",
    "plt.figure(figsize=(10,8))\n",
    "plt.plot(range(1,201),test,color='blue',label='max_depth')\n",
    "plt.grid(alpha=0.3)\n",
    "plt.legend()\n",
    "plt.plot(max_index,test[max_index],'ks')\n",
    "show_max= '['+str(max_index)+'  '+str(test[max_index])+']'\n",
    "plt.annotate(show_max,xytext=(max_index,test[max_index]),xy=(max_index,test[max_index]))\n",
    "plt.savefig('Optimization_nodes_Decision_Tree.jpg')\n",
    "plt.show()"
   ]
  },
  {
   "cell_type": "markdown",
   "id": "6082f2ed",
   "metadata": {},
   "source": [
    "**Mark**:For an 1000 matrix sizes of TF-IDF model in unigram, it holds a maximum accuracy 44.78%, when the node generates in 52. And after aroud 50 node classes, the accuracy follows a stationary trend around the range 43% in this work."
   ]
  },
  {
   "cell_type": "markdown",
   "id": "e93c3e25",
   "metadata": {},
   "source": [
    "#### Create a function to collect the four standard evaluation metrics for DT model in the normal testing results"
   ]
  },
  {
   "cell_type": "code",
   "execution_count": 65,
   "id": "e687f692",
   "metadata": {},
   "outputs": [],
   "source": [
    "def dt_test(x_train_set,x_test_set):\n",
    "    \n",
    "    dt_clf = tree.DecisionTreeClassifier(criterion='gini', random_state=123) #Difference between GINI <--> ENTROPY!\n",
    "    dt_clf.fit(x_train_set,y_train)\n",
    "    \n",
    "    y_pred = dt_clf.predict(x_test_set)\n",
    "\n",
    "    return[precision_score(y_test, y_pred, average='micro'),\n",
    "           recall_score(y_test, y_pred, average='micro'),\n",
    "           f1_score(y_test, y_pred, average='micro'),\n",
    "           accuracy_score(y_test, y_pred)]"
   ]
  },
  {
   "cell_type": "markdown",
   "id": "d07878bf",
   "metadata": {},
   "source": [
    "#### Create a function to collect the four standard evaluation metrics for DT model in the 10-fold CV testing results"
   ]
  },
  {
   "cell_type": "markdown",
   "id": "798ca419",
   "metadata": {},
   "source": [
    "**Note**: Applying 'model_selection.KFold' on the Cross-Validation testing, using for testing the 10 folds without replacement"
   ]
  },
  {
   "cell_type": "code",
   "execution_count": 66,
   "id": "6cc052a1",
   "metadata": {},
   "outputs": [],
   "source": [
    "def dt_cv_test(x_train_set, x_test_set):\n",
    "\n",
    "    dt_clf = tree.DecisionTreeClassifier(criterion='gini', random_state=123)\n",
    "    kfold = model_selection.KFold(n_splits=10, shuffle=True, random_state=123)\n",
    "\n",
    "    dt_clf.fit(x_train_set, y_train)\n",
    "\n",
    "    return[cross_val_score(dt_clf, x_test_set, y_test, cv=kfold, scoring='precision_weighted').mean(),\n",
    "           cross_val_score(dt_clf, x_test_set, y_test, cv=kfold,\n",
    "                           scoring='recall_weighted').mean(),\n",
    "           cross_val_score(dt_clf, x_test_set, y_test,\n",
    "                           cv=kfold, scoring='f1_weighted').mean(),\n",
    "           cross_val_score(dt_clf, x_test_set, y_test, cv=kfold, scoring='accuracy').mean()]"
   ]
  },
  {
   "cell_type": "markdown",
   "id": "baacf4d0",
   "metadata": {},
   "source": [
    "#### Create a dataframe to capture the four standard testing results for the whole TF-IDF models in DT"
   ]
  },
  {
   "cell_type": "code",
   "execution_count": 67,
   "id": "138eeae1",
   "metadata": {},
   "outputs": [
    {
     "data": {
      "text/html": [
       "<div>\n",
       "<style scoped>\n",
       "    .dataframe tbody tr th:only-of-type {\n",
       "        vertical-align: middle;\n",
       "    }\n",
       "\n",
       "    .dataframe tbody tr th {\n",
       "        vertical-align: top;\n",
       "    }\n",
       "\n",
       "    .dataframe thead th {\n",
       "        text-align: right;\n",
       "    }\n",
       "</style>\n",
       "<table border=\"1\" class=\"dataframe\">\n",
       "  <thead>\n",
       "    <tr style=\"text-align: right;\">\n",
       "      <th></th>\n",
       "      <th>Precision</th>\n",
       "      <th>Recall</th>\n",
       "      <th>F1</th>\n",
       "      <th>Accuracy</th>\n",
       "    </tr>\n",
       "  </thead>\n",
       "  <tbody>\n",
       "    <tr>\n",
       "      <th>Unigram</th>\n",
       "      <td>0.426277</td>\n",
       "      <td>0.426277</td>\n",
       "      <td>0.426277</td>\n",
       "      <td>0.426277</td>\n",
       "    </tr>\n",
       "    <tr>\n",
       "      <th></th>\n",
       "      <td>0.398104</td>\n",
       "      <td>0.398104</td>\n",
       "      <td>0.398104</td>\n",
       "      <td>0.398104</td>\n",
       "    </tr>\n",
       "    <tr>\n",
       "      <th>Bigram</th>\n",
       "      <td>0.397314</td>\n",
       "      <td>0.397314</td>\n",
       "      <td>0.397314</td>\n",
       "      <td>0.397314</td>\n",
       "    </tr>\n",
       "    <tr>\n",
       "      <th></th>\n",
       "      <td>0.386783</td>\n",
       "      <td>0.386783</td>\n",
       "      <td>0.386783</td>\n",
       "      <td>0.386783</td>\n",
       "    </tr>\n",
       "    <tr>\n",
       "      <th>Trigram</th>\n",
       "      <td>0.384676</td>\n",
       "      <td>0.384676</td>\n",
       "      <td>0.384676</td>\n",
       "      <td>0.384676</td>\n",
       "    </tr>\n",
       "    <tr>\n",
       "      <th></th>\n",
       "      <td>0.404950</td>\n",
       "      <td>0.404950</td>\n",
       "      <td>0.404950</td>\n",
       "      <td>0.404950</td>\n",
       "    </tr>\n",
       "    <tr>\n",
       "      <th>Four-gram</th>\n",
       "      <td>0.432596</td>\n",
       "      <td>0.432596</td>\n",
       "      <td>0.432596</td>\n",
       "      <td>0.432596</td>\n",
       "    </tr>\n",
       "    <tr>\n",
       "      <th></th>\n",
       "      <td>0.379410</td>\n",
       "      <td>0.379410</td>\n",
       "      <td>0.379410</td>\n",
       "      <td>0.379410</td>\n",
       "    </tr>\n",
       "  </tbody>\n",
       "</table>\n",
       "</div>"
      ],
      "text/plain": [
       "           Precision    Recall        F1  Accuracy\n",
       "Unigram     0.426277  0.426277  0.426277  0.426277\n",
       "            0.398104  0.398104  0.398104  0.398104\n",
       "Bigram      0.397314  0.397314  0.397314  0.397314\n",
       "            0.386783  0.386783  0.386783  0.386783\n",
       "Trigram     0.384676  0.384676  0.384676  0.384676\n",
       "            0.404950  0.404950  0.404950  0.404950\n",
       "Four-gram   0.432596  0.432596  0.432596  0.432596\n",
       "            0.379410  0.379410  0.379410  0.379410"
      ]
     },
     "execution_count": 67,
     "metadata": {},
     "output_type": "execute_result"
    }
   ],
   "source": [
    "    \n",
    "dt_test_dataframe = pd.DataFrame([dt_test(x_train_1_u, x_test_1_u),\n",
    "                                   dt_test(x_train_3_u, x_test_3_u),\n",
    "                                   dt_test(x_train_1_b, x_test_1_b),\n",
    "                                   dt_test(x_train_3_b, x_test_3_b),\n",
    "                                   dt_test(x_train_1_t, x_test_1_t),\n",
    "                                   dt_test(x_train_3_t, x_test_3_t),\n",
    "                                   dt_test(x_train_1_f, x_test_1_f),\n",
    "                                   dt_test(x_train_3_f, x_test_3_f)],\n",
    "                                  columns=['Precision', 'Recall', 'F1', 'Accuracy'],\n",
    "                                  index=['Unigram', '', 'Bigram', '', 'Trigram', '', 'Four-gram', ''])\n",
    "\n",
    "dt_test_dataframe"
   ]
  },
  {
   "cell_type": "markdown",
   "id": "0e74760b",
   "metadata": {},
   "source": [
    "#### Create a dataframe to capture the four standard CV testing results for the whole TF-IDF models in DT"
   ]
  },
  {
   "cell_type": "code",
   "execution_count": 68,
   "id": "ea042b5c",
   "metadata": {},
   "outputs": [
    {
     "data": {
      "text/html": [
       "<div>\n",
       "<style scoped>\n",
       "    .dataframe tbody tr th:only-of-type {\n",
       "        vertical-align: middle;\n",
       "    }\n",
       "\n",
       "    .dataframe tbody tr th {\n",
       "        vertical-align: top;\n",
       "    }\n",
       "\n",
       "    .dataframe thead th {\n",
       "        text-align: right;\n",
       "    }\n",
       "</style>\n",
       "<table border=\"1\" class=\"dataframe\">\n",
       "  <thead>\n",
       "    <tr style=\"text-align: right;\">\n",
       "      <th></th>\n",
       "      <th>Precision(CV=10)</th>\n",
       "      <th>Recall(CV=10)</th>\n",
       "      <th>F1(CV=10)</th>\n",
       "      <th>Accuracy(CV=10)</th>\n",
       "    </tr>\n",
       "  </thead>\n",
       "  <tbody>\n",
       "    <tr>\n",
       "      <th>Unigram</th>\n",
       "      <td>0.827899</td>\n",
       "      <td>0.826485</td>\n",
       "      <td>0.826628</td>\n",
       "      <td>0.826485</td>\n",
       "    </tr>\n",
       "    <tr>\n",
       "      <th></th>\n",
       "      <td>0.875369</td>\n",
       "      <td>0.874666</td>\n",
       "      <td>0.874452</td>\n",
       "      <td>0.874666</td>\n",
       "    </tr>\n",
       "    <tr>\n",
       "      <th>Bigram</th>\n",
       "      <td>0.808073</td>\n",
       "      <td>0.805680</td>\n",
       "      <td>0.805938</td>\n",
       "      <td>0.805680</td>\n",
       "    </tr>\n",
       "    <tr>\n",
       "      <th></th>\n",
       "      <td>0.868393</td>\n",
       "      <td>0.867548</td>\n",
       "      <td>0.867275</td>\n",
       "      <td>0.867548</td>\n",
       "    </tr>\n",
       "    <tr>\n",
       "      <th>Trigram</th>\n",
       "      <td>0.800095</td>\n",
       "      <td>0.797787</td>\n",
       "      <td>0.797849</td>\n",
       "      <td>0.797787</td>\n",
       "    </tr>\n",
       "    <tr>\n",
       "      <th></th>\n",
       "      <td>0.861391</td>\n",
       "      <td>0.860445</td>\n",
       "      <td>0.860249</td>\n",
       "      <td>0.860445</td>\n",
       "    </tr>\n",
       "    <tr>\n",
       "      <th>Four-gram</th>\n",
       "      <td>0.804819</td>\n",
       "      <td>0.803057</td>\n",
       "      <td>0.802946</td>\n",
       "      <td>0.803057</td>\n",
       "    </tr>\n",
       "    <tr>\n",
       "      <th></th>\n",
       "      <td>0.865039</td>\n",
       "      <td>0.864658</td>\n",
       "      <td>0.864084</td>\n",
       "      <td>0.864658</td>\n",
       "    </tr>\n",
       "  </tbody>\n",
       "</table>\n",
       "</div>"
      ],
      "text/plain": [
       "           Precision(CV=10)  Recall(CV=10)  F1(CV=10)  Accuracy(CV=10)\n",
       "Unigram            0.827899       0.826485   0.826628         0.826485\n",
       "                   0.875369       0.874666   0.874452         0.874666\n",
       "Bigram             0.808073       0.805680   0.805938         0.805680\n",
       "                   0.868393       0.867548   0.867275         0.867548\n",
       "Trigram            0.800095       0.797787   0.797849         0.797787\n",
       "                   0.861391       0.860445   0.860249         0.860445\n",
       "Four-gram          0.804819       0.803057   0.802946         0.803057\n",
       "                   0.865039       0.864658   0.864084         0.864658"
      ]
     },
     "execution_count": 68,
     "metadata": {},
     "output_type": "execute_result"
    }
   ],
   "source": [
    "dt_cv_dataframe = pd.DataFrame([dt_cv_test(x_train_1_u, x_test_1_u),\n",
    "                                 dt_cv_test(x_train_3_u, x_test_3_u),\n",
    "                                 dt_cv_test(x_train_1_b, x_test_1_b),\n",
    "                                 dt_cv_test(x_train_3_b, x_test_3_b),\n",
    "                                 dt_cv_test(x_train_1_t, x_test_1_t),\n",
    "                                 dt_cv_test(x_train_3_t, x_test_3_t),\n",
    "                                 dt_cv_test(x_train_1_f, x_test_1_f),\n",
    "                                 dt_cv_test(x_train_3_f, x_test_3_f)],\n",
    "                                columns=['Precision(CV=10)', 'Recall(CV=10)', 'F1(CV=10)', 'Accuracy(CV=10)'],\n",
    "                                index=['Unigram', '', 'Bigram', '', 'Trigram', '', 'Four-gram', ''])\n",
    "\n",
    "dt_cv_dataframe"
   ]
  },
  {
   "cell_type": "markdown",
   "id": "272a374b",
   "metadata": {},
   "source": [
    "#### Create a dataframe to combine two dataframes above, columns outside the intersection will be filled by both of the first same column"
   ]
  },
  {
   "cell_type": "code",
   "execution_count": 69,
   "id": "e19ed277",
   "metadata": {},
   "outputs": [
    {
     "data": {
      "text/html": [
       "<div>\n",
       "<style scoped>\n",
       "    .dataframe tbody tr th:only-of-type {\n",
       "        vertical-align: middle;\n",
       "    }\n",
       "\n",
       "    .dataframe tbody tr th {\n",
       "        vertical-align: top;\n",
       "    }\n",
       "\n",
       "    .dataframe thead th {\n",
       "        text-align: right;\n",
       "    }\n",
       "</style>\n",
       "<table border=\"1\" class=\"dataframe\">\n",
       "  <thead>\n",
       "    <tr style=\"text-align: right;\">\n",
       "      <th></th>\n",
       "      <th>Distance</th>\n",
       "      <th>Precision</th>\n",
       "      <th>Recall</th>\n",
       "      <th>F1</th>\n",
       "      <th>Accuracy</th>\n",
       "      <th>Precision(CV=10)</th>\n",
       "      <th>Recall(CV=10)</th>\n",
       "      <th>F1(CV=10)</th>\n",
       "      <th>Accuracy(CV=10)</th>\n",
       "    </tr>\n",
       "  </thead>\n",
       "  <tbody>\n",
       "    <tr>\n",
       "      <th>Unigram</th>\n",
       "      <td>1000</td>\n",
       "      <td>0.426277</td>\n",
       "      <td>0.426277</td>\n",
       "      <td>0.426277</td>\n",
       "      <td>0.426277</td>\n",
       "      <td>0.827899</td>\n",
       "      <td>0.826485</td>\n",
       "      <td>0.826628</td>\n",
       "      <td>0.826485</td>\n",
       "    </tr>\n",
       "    <tr>\n",
       "      <th></th>\n",
       "      <td>3000</td>\n",
       "      <td>0.398104</td>\n",
       "      <td>0.398104</td>\n",
       "      <td>0.398104</td>\n",
       "      <td>0.398104</td>\n",
       "      <td>0.875369</td>\n",
       "      <td>0.874666</td>\n",
       "      <td>0.874452</td>\n",
       "      <td>0.874666</td>\n",
       "    </tr>\n",
       "    <tr>\n",
       "      <th>Bigram</th>\n",
       "      <td>1000</td>\n",
       "      <td>0.397314</td>\n",
       "      <td>0.397314</td>\n",
       "      <td>0.397314</td>\n",
       "      <td>0.397314</td>\n",
       "      <td>0.808073</td>\n",
       "      <td>0.805680</td>\n",
       "      <td>0.805938</td>\n",
       "      <td>0.805680</td>\n",
       "    </tr>\n",
       "    <tr>\n",
       "      <th></th>\n",
       "      <td>3000</td>\n",
       "      <td>0.386783</td>\n",
       "      <td>0.386783</td>\n",
       "      <td>0.386783</td>\n",
       "      <td>0.386783</td>\n",
       "      <td>0.868393</td>\n",
       "      <td>0.867548</td>\n",
       "      <td>0.867275</td>\n",
       "      <td>0.867548</td>\n",
       "    </tr>\n",
       "    <tr>\n",
       "      <th>Trigram</th>\n",
       "      <td>1000</td>\n",
       "      <td>0.384676</td>\n",
       "      <td>0.384676</td>\n",
       "      <td>0.384676</td>\n",
       "      <td>0.384676</td>\n",
       "      <td>0.800095</td>\n",
       "      <td>0.797787</td>\n",
       "      <td>0.797849</td>\n",
       "      <td>0.797787</td>\n",
       "    </tr>\n",
       "    <tr>\n",
       "      <th></th>\n",
       "      <td>3000</td>\n",
       "      <td>0.404950</td>\n",
       "      <td>0.404950</td>\n",
       "      <td>0.404950</td>\n",
       "      <td>0.404950</td>\n",
       "      <td>0.861391</td>\n",
       "      <td>0.860445</td>\n",
       "      <td>0.860249</td>\n",
       "      <td>0.860445</td>\n",
       "    </tr>\n",
       "    <tr>\n",
       "      <th>Four-gram</th>\n",
       "      <td>1000</td>\n",
       "      <td>0.432596</td>\n",
       "      <td>0.432596</td>\n",
       "      <td>0.432596</td>\n",
       "      <td>0.432596</td>\n",
       "      <td>0.804819</td>\n",
       "      <td>0.803057</td>\n",
       "      <td>0.802946</td>\n",
       "      <td>0.803057</td>\n",
       "    </tr>\n",
       "    <tr>\n",
       "      <th></th>\n",
       "      <td>3000</td>\n",
       "      <td>0.379410</td>\n",
       "      <td>0.379410</td>\n",
       "      <td>0.379410</td>\n",
       "      <td>0.379410</td>\n",
       "      <td>0.865039</td>\n",
       "      <td>0.864658</td>\n",
       "      <td>0.864084</td>\n",
       "      <td>0.864658</td>\n",
       "    </tr>\n",
       "  </tbody>\n",
       "</table>\n",
       "</div>"
      ],
      "text/plain": [
       "           Distance  Precision    Recall        F1  Accuracy  \\\n",
       "Unigram        1000   0.426277  0.426277  0.426277  0.426277   \n",
       "               3000   0.398104  0.398104  0.398104  0.398104   \n",
       "Bigram         1000   0.397314  0.397314  0.397314  0.397314   \n",
       "               3000   0.386783  0.386783  0.386783  0.386783   \n",
       "Trigram        1000   0.384676  0.384676  0.384676  0.384676   \n",
       "               3000   0.404950  0.404950  0.404950  0.404950   \n",
       "Four-gram      1000   0.432596  0.432596  0.432596  0.432596   \n",
       "               3000   0.379410  0.379410  0.379410  0.379410   \n",
       "\n",
       "           Precision(CV=10)  Recall(CV=10)  F1(CV=10)  Accuracy(CV=10)  \n",
       "Unigram            0.827899       0.826485   0.826628         0.826485  \n",
       "                   0.875369       0.874666   0.874452         0.874666  \n",
       "Bigram             0.808073       0.805680   0.805938         0.805680  \n",
       "                   0.868393       0.867548   0.867275         0.867548  \n",
       "Trigram            0.800095       0.797787   0.797849         0.797787  \n",
       "                   0.861391       0.860445   0.860249         0.860445  \n",
       "Four-gram          0.804819       0.803057   0.802946         0.803057  \n",
       "                   0.865039       0.864658   0.864084         0.864658  "
      ]
     },
     "execution_count": 69,
     "metadata": {},
     "output_type": "execute_result"
    }
   ],
   "source": [
    "dt_res = pd.concat([dt_test_dataframe, dt_cv_dataframe], axis=1, join='outer')\n",
    "dt_res.insert(0, 'Distance', [1000, 3000, 1000, 3000, 1000, 3000, 1000, 3000])\n",
    "dt_res"
   ]
  },
  {
   "cell_type": "markdown",
   "id": "44acb361",
   "metadata": {},
   "source": [
    "#### Save the dataframe"
   ]
  },
  {
   "cell_type": "code",
   "execution_count": 126,
   "id": "681f5b63",
   "metadata": {},
   "outputs": [],
   "source": [
    "dt_res.to_csv('DT_result.csv',encoding = 'utf8') "
   ]
  },
  {
   "cell_type": "markdown",
   "id": "eb47522c",
   "metadata": {},
   "source": [
    "# RF(Random Forest)\n",
    "- 'Gini' uses to measure the degree of heterogeneity in RF\n",
    "- The most important variable impact on the accuracy of RF classifer model is the tree selection\n"
   ]
  },
  {
   "cell_type": "code",
   "execution_count": 106,
   "id": "5b252505",
   "metadata": {},
   "outputs": [],
   "source": [
    "from sklearn.ensemble import RandomForestClassifier"
   ]
  },
  {
   "cell_type": "markdown",
   "id": "c2c0714d",
   "metadata": {},
   "source": [
    "### Accuracy Simulation \n",
    "#### To optimize the tree mumbers, here creates a loop with the number of replicates from 1 to 201 with a frequency as 10 to train each of the accuracy from 1 trees to 201 trees with a frequency 10 in RF model following 10 folds cross-validation "
   ]
  },
  {
   "cell_type": "markdown",
   "id": "1a4f69c2",
   "metadata": {},
   "source": [
    "**Note**: To improve the time cost, in this work, a frequecy 10 is essentially"
   ]
  },
  {
   "cell_type": "code",
   "execution_count": 91,
   "id": "fe144f61",
   "metadata": {},
   "outputs": [],
   "source": [
    "kfold = model_selection.KFold(n_splits=10, shuffle=True, random_state=123)\n",
    "score_test = []\n",
    "for i in range(0,200,10):\n",
    "    rfc = RandomForestClassifier(n_estimators=i+1\n",
    "                                ,random_state=123)\n",
    "    rfc.fit(x_train_1_u, y_train)\n",
    "    score = cross_val_score(rfc, x_test_1_u, y_test, cv=kfold).mean()\n",
    "    score_test.append(score)\n",
    "score_max = max(score_test)"
   ]
  },
  {
   "cell_type": "markdown",
   "id": "93cc82b0",
   "metadata": {},
   "source": [
    "#### Drawing the learning line chart"
   ]
  },
  {
   "cell_type": "code",
   "execution_count": 92,
   "id": "5b48831c",
   "metadata": {},
   "outputs": [
    {
     "name": "stdout",
     "output_type": "stream",
     "text": [
      "max_score：0.8583384252187196 num_of_trees:191\n"
     ]
    },
    {
     "data": {
      "image/png": "[encoded data removed]",
      "text/plain": [
       "<Figure size 432x288 with 1 Axes>"
      ]
     },
     "metadata": {
      "needs_background": "light"
     },
     "output_type": "display_data"
    }
   ],
   "source": [
    "print('max_score：{}'.format(score_max),\n",
    "      'num_of_trees:{}'.format(score_test.index(score_max)*10 + 1))\n",
    "max_index=(np.argmax(score_test))\n",
    "x = np.arange(1,201,10)\n",
    "plt.subplot(111)\n",
    "plt.plot(x, score_test, 'r-')\n",
    "plt.plot(max_index*10+1,score_test[max_index],'ks')\n",
    "show_max= '['+str(max_index*10+1)+'  '+str(score_test[max_index])+']'\n",
    "plt.annotate(show_max,xytext=(max_index,score_test[max_index]),xy=(max_index,score_test[max_index]))\n",
    "plt.savefig('Learning curve_num_trees_Random_Forest.jpg')\n",
    "plt.show()"
   ]
  },
  {
   "cell_type": "markdown",
   "id": "4f7674a2",
   "metadata": {},
   "source": [
    "**Mark**:For an 1000 matrix sizes of TF-IDF model in unigram, the maximum accuracy of cross-validation is up to 85.83%, while the trees generates in 191. Noticing that after a rocketing by 21 trees, the accuracy follows a stationary light increasing trend around the range 84% in this work."
   ]
  },
  {
   "cell_type": "markdown",
   "id": "a9ee2f60",
   "metadata": {},
   "source": [
    "#### Create a function to collect the four standard evaluation metrics for RF model in the normal testing results"
   ]
  },
  {
   "cell_type": "code",
   "execution_count": 93,
   "id": "1a4b5b1e",
   "metadata": {},
   "outputs": [],
   "source": [
    "def rf_test(x_train_set,x_test_set):\n",
    "    \n",
    "    rf_clf = RandomForestClassifier(criterion='gini', random_state=123)\n",
    "    rf_clf.fit(x_train_set,y_train)\n",
    "    \n",
    "    y_pred = rf_clf.predict(x_test_set)\n",
    "\n",
    "    return[precision_score(y_test, y_pred, average='micro'),\n",
    "           recall_score(y_test, y_pred, average='micro'),\n",
    "           f1_score(y_test, y_pred, average='micro'),\n",
    "           accuracy_score(y_test, y_pred)]"
   ]
  },
  {
   "cell_type": "markdown",
   "id": "883b3193",
   "metadata": {},
   "source": [
    "#### Create a function to collect the four standard evaluation metrics for RF model in the 10-fold CV testing results"
   ]
  },
  {
   "cell_type": "code",
   "execution_count": 94,
   "id": "2676ea9a",
   "metadata": {},
   "outputs": [],
   "source": [
    "def rf_cv_test(x_train_set, x_test_set):\n",
    "\n",
    "    rf_clf = RandomForestClassifier(criterion='gini', random_state=123)\n",
    "    kfold = model_selection.KFold(n_splits=10, shuffle=True, random_state=123)\n",
    "\n",
    "    rf_clf.fit(x_train_set, y_train)\n",
    "\n",
    "    return[cross_val_score(rf_clf, x_test_set, y_test, cv=kfold, scoring='precision_weighted').mean(),\n",
    "           cross_val_score(rf_clf, x_test_set, y_test, cv=kfold,\n",
    "                           scoring='recall_weighted').mean(),\n",
    "           cross_val_score(rf_clf, x_test_set, y_test,\n",
    "                           cv=kfold, scoring='f1_weighted').mean(),\n",
    "           cross_val_score(rf_clf, x_test_set, y_test, cv=kfold, scoring='accuracy').mean()]"
   ]
  },
  {
   "cell_type": "markdown",
   "id": "07d1b42d",
   "metadata": {},
   "source": [
    "#### Create a dataframe to capture the four standard testing results for the whole TF-IDF models in RF"
   ]
  },
  {
   "cell_type": "code",
   "execution_count": 95,
   "id": "d4079dbf",
   "metadata": {},
   "outputs": [
    {
     "data": {
      "text/html": [
       "<div>\n",
       "<style scoped>\n",
       "    .dataframe tbody tr th:only-of-type {\n",
       "        vertical-align: middle;\n",
       "    }\n",
       "\n",
       "    .dataframe tbody tr th {\n",
       "        vertical-align: top;\n",
       "    }\n",
       "\n",
       "    .dataframe thead th {\n",
       "        text-align: right;\n",
       "    }\n",
       "</style>\n",
       "<table border=\"1\" class=\"dataframe\">\n",
       "  <thead>\n",
       "    <tr style=\"text-align: right;\">\n",
       "      <th></th>\n",
       "      <th>Precision</th>\n",
       "      <th>Recall</th>\n",
       "      <th>F1</th>\n",
       "      <th>Accuracy</th>\n",
       "    </tr>\n",
       "  </thead>\n",
       "  <tbody>\n",
       "    <tr>\n",
       "      <th>Unigram</th>\n",
       "      <td>0.445498</td>\n",
       "      <td>0.445498</td>\n",
       "      <td>0.445498</td>\n",
       "      <td>0.445498</td>\n",
       "    </tr>\n",
       "    <tr>\n",
       "      <th></th>\n",
       "      <td>0.402844</td>\n",
       "      <td>0.402844</td>\n",
       "      <td>0.402844</td>\n",
       "      <td>0.402844</td>\n",
       "    </tr>\n",
       "    <tr>\n",
       "      <th>Bigram</th>\n",
       "      <td>0.397051</td>\n",
       "      <td>0.397051</td>\n",
       "      <td>0.397051</td>\n",
       "      <td>0.397051</td>\n",
       "    </tr>\n",
       "    <tr>\n",
       "      <th></th>\n",
       "      <td>0.389152</td>\n",
       "      <td>0.389152</td>\n",
       "      <td>0.389152</td>\n",
       "      <td>0.389152</td>\n",
       "    </tr>\n",
       "    <tr>\n",
       "      <th>Trigram</th>\n",
       "      <td>0.387046</td>\n",
       "      <td>0.387046</td>\n",
       "      <td>0.387046</td>\n",
       "      <td>0.387046</td>\n",
       "    </tr>\n",
       "    <tr>\n",
       "      <th></th>\n",
       "      <td>0.414165</td>\n",
       "      <td>0.414165</td>\n",
       "      <td>0.414165</td>\n",
       "      <td>0.414165</td>\n",
       "    </tr>\n",
       "    <tr>\n",
       "      <th>Four-gram</th>\n",
       "      <td>0.438915</td>\n",
       "      <td>0.438915</td>\n",
       "      <td>0.438915</td>\n",
       "      <td>0.438915</td>\n",
       "    </tr>\n",
       "    <tr>\n",
       "      <th></th>\n",
       "      <td>0.384676</td>\n",
       "      <td>0.384676</td>\n",
       "      <td>0.384676</td>\n",
       "      <td>0.384676</td>\n",
       "    </tr>\n",
       "  </tbody>\n",
       "</table>\n",
       "</div>"
      ],
      "text/plain": [
       "           Precision    Recall        F1  Accuracy\n",
       "Unigram     0.445498  0.445498  0.445498  0.445498\n",
       "            0.402844  0.402844  0.402844  0.402844\n",
       "Bigram      0.397051  0.397051  0.397051  0.397051\n",
       "            0.389152  0.389152  0.389152  0.389152\n",
       "Trigram     0.387046  0.387046  0.387046  0.387046\n",
       "            0.414165  0.414165  0.414165  0.414165\n",
       "Four-gram   0.438915  0.438915  0.438915  0.438915\n",
       "            0.384676  0.384676  0.384676  0.384676"
      ]
     },
     "execution_count": 95,
     "metadata": {},
     "output_type": "execute_result"
    }
   ],
   "source": [
    "    \n",
    "rf_test_dataframe = pd.DataFrame([rf_test(x_train_1_u, x_test_1_u),\n",
    "                                   rf_test(x_train_3_u, x_test_3_u),\n",
    "                                   rf_test(x_train_1_b, x_test_1_b),\n",
    "                                   rf_test(x_train_3_b, x_test_3_b),\n",
    "                                   rf_test(x_train_1_t, x_test_1_t),\n",
    "                                   rf_test(x_train_3_t, x_test_3_t),\n",
    "                                   rf_test(x_train_1_f, x_test_1_f),\n",
    "                                   rf_test(x_train_3_f, x_test_3_f)],\n",
    "                                  columns=['Precision', 'Recall', 'F1', 'Accuracy'],\n",
    "                                  index=['Unigram', '', 'Bigram', '', 'Trigram', '', 'Four-gram', ''])\n",
    "\n",
    "rf_test_dataframe"
   ]
  },
  {
   "cell_type": "markdown",
   "id": "4eb80b73",
   "metadata": {},
   "source": [
    "#### Create a dataframe to capture the four standard CV testing results for the whole TF-IDF models in RF"
   ]
  },
  {
   "cell_type": "code",
   "execution_count": 96,
   "id": "ac26be9f",
   "metadata": {},
   "outputs": [
    {
     "data": {
      "text/html": [
       "<div>\n",
       "<style scoped>\n",
       "    .dataframe tbody tr th:only-of-type {\n",
       "        vertical-align: middle;\n",
       "    }\n",
       "\n",
       "    .dataframe tbody tr th {\n",
       "        vertical-align: top;\n",
       "    }\n",
       "\n",
       "    .dataframe thead th {\n",
       "        text-align: right;\n",
       "    }\n",
       "</style>\n",
       "<table border=\"1\" class=\"dataframe\">\n",
       "  <thead>\n",
       "    <tr style=\"text-align: right;\">\n",
       "      <th></th>\n",
       "      <th>Precision(CV=10)</th>\n",
       "      <th>Recall(CV=10)</th>\n",
       "      <th>F1(CV=10)</th>\n",
       "      <th>Accuracy(CV=10)</th>\n",
       "    </tr>\n",
       "  </thead>\n",
       "  <tbody>\n",
       "    <tr>\n",
       "      <th>Unigram</th>\n",
       "      <td>0.860155</td>\n",
       "      <td>0.854386</td>\n",
       "      <td>0.852308</td>\n",
       "      <td>0.854386</td>\n",
       "    </tr>\n",
       "    <tr>\n",
       "      <th></th>\n",
       "      <td>0.849259</td>\n",
       "      <td>0.840958</td>\n",
       "      <td>0.838558</td>\n",
       "      <td>0.840958</td>\n",
       "    </tr>\n",
       "    <tr>\n",
       "      <th>Bigram</th>\n",
       "      <td>0.852376</td>\n",
       "      <td>0.845971</td>\n",
       "      <td>0.843580</td>\n",
       "      <td>0.845971</td>\n",
       "    </tr>\n",
       "    <tr>\n",
       "      <th></th>\n",
       "      <td>0.842729</td>\n",
       "      <td>0.833856</td>\n",
       "      <td>0.830888</td>\n",
       "      <td>0.833856</td>\n",
       "    </tr>\n",
       "    <tr>\n",
       "      <th>Trigram</th>\n",
       "      <td>0.850061</td>\n",
       "      <td>0.842811</td>\n",
       "      <td>0.840249</td>\n",
       "      <td>0.842811</td>\n",
       "    </tr>\n",
       "    <tr>\n",
       "      <th></th>\n",
       "      <td>0.844093</td>\n",
       "      <td>0.836224</td>\n",
       "      <td>0.833545</td>\n",
       "      <td>0.836224</td>\n",
       "    </tr>\n",
       "    <tr>\n",
       "      <th>Four-gram</th>\n",
       "      <td>0.848001</td>\n",
       "      <td>0.840440</td>\n",
       "      <td>0.837844</td>\n",
       "      <td>0.840440</td>\n",
       "    </tr>\n",
       "    <tr>\n",
       "      <th></th>\n",
       "      <td>0.841758</td>\n",
       "      <td>0.833849</td>\n",
       "      <td>0.831018</td>\n",
       "      <td>0.833849</td>\n",
       "    </tr>\n",
       "  </tbody>\n",
       "</table>\n",
       "</div>"
      ],
      "text/plain": [
       "           Precision(CV=10)  Recall(CV=10)  F1(CV=10)  Accuracy(CV=10)\n",
       "Unigram            0.860155       0.854386   0.852308         0.854386\n",
       "                   0.849259       0.840958   0.838558         0.840958\n",
       "Bigram             0.852376       0.845971   0.843580         0.845971\n",
       "                   0.842729       0.833856   0.830888         0.833856\n",
       "Trigram            0.850061       0.842811   0.840249         0.842811\n",
       "                   0.844093       0.836224   0.833545         0.836224\n",
       "Four-gram          0.848001       0.840440   0.837844         0.840440\n",
       "                   0.841758       0.833849   0.831018         0.833849"
      ]
     },
     "execution_count": 96,
     "metadata": {},
     "output_type": "execute_result"
    }
   ],
   "source": [
    "rf_cv_dataframe = pd.DataFrame([rf_cv_test(x_train_1_u, x_test_1_u),\n",
    "                                 rf_cv_test(x_train_3_u, x_test_3_u),\n",
    "                                 rf_cv_test(x_train_1_b, x_test_1_b),\n",
    "                                 rf_cv_test(x_train_3_b, x_test_3_b),\n",
    "                                 rf_cv_test(x_train_1_t, x_test_1_t),\n",
    "                                 rf_cv_test(x_train_3_t, x_test_3_t),\n",
    "                                 rf_cv_test(x_train_1_f, x_test_1_f),\n",
    "                                 rf_cv_test(x_train_3_f, x_test_3_f)],\n",
    "                                columns=['Precision(CV=10)', 'Recall(CV=10)', 'F1(CV=10)', 'Accuracy(CV=10)'],\n",
    "                                index=['Unigram', '', 'Bigram', '', 'Trigram', '', 'Four-gram', ''])\n",
    "\n",
    "rf_cv_dataframe"
   ]
  },
  {
   "cell_type": "markdown",
   "id": "e03440a6",
   "metadata": {},
   "source": [
    "#### Create a dataframe to combine two dataframes above, columns outside the intersection will be filled by both of the first same column"
   ]
  },
  {
   "cell_type": "code",
   "execution_count": 97,
   "id": "3c3f7e9c",
   "metadata": {},
   "outputs": [
    {
     "data": {
      "text/html": [
       "<div>\n",
       "<style scoped>\n",
       "    .dataframe tbody tr th:only-of-type {\n",
       "        vertical-align: middle;\n",
       "    }\n",
       "\n",
       "    .dataframe tbody tr th {\n",
       "        vertical-align: top;\n",
       "    }\n",
       "\n",
       "    .dataframe thead th {\n",
       "        text-align: right;\n",
       "    }\n",
       "</style>\n",
       "<table border=\"1\" class=\"dataframe\">\n",
       "  <thead>\n",
       "    <tr style=\"text-align: right;\">\n",
       "      <th></th>\n",
       "      <th>Distance</th>\n",
       "      <th>Precision</th>\n",
       "      <th>Recall</th>\n",
       "      <th>F1</th>\n",
       "      <th>Accuracy</th>\n",
       "      <th>Precision(CV=10)</th>\n",
       "      <th>Recall(CV=10)</th>\n",
       "      <th>F1(CV=10)</th>\n",
       "      <th>Accuracy(CV=10)</th>\n",
       "    </tr>\n",
       "  </thead>\n",
       "  <tbody>\n",
       "    <tr>\n",
       "      <th>Unigram</th>\n",
       "      <td>1000</td>\n",
       "      <td>0.445498</td>\n",
       "      <td>0.445498</td>\n",
       "      <td>0.445498</td>\n",
       "      <td>0.445498</td>\n",
       "      <td>0.860155</td>\n",
       "      <td>0.854386</td>\n",
       "      <td>0.852308</td>\n",
       "      <td>0.854386</td>\n",
       "    </tr>\n",
       "    <tr>\n",
       "      <th></th>\n",
       "      <td>3000</td>\n",
       "      <td>0.402844</td>\n",
       "      <td>0.402844</td>\n",
       "      <td>0.402844</td>\n",
       "      <td>0.402844</td>\n",
       "      <td>0.849259</td>\n",
       "      <td>0.840958</td>\n",
       "      <td>0.838558</td>\n",
       "      <td>0.840958</td>\n",
       "    </tr>\n",
       "    <tr>\n",
       "      <th>Bigram</th>\n",
       "      <td>1000</td>\n",
       "      <td>0.397051</td>\n",
       "      <td>0.397051</td>\n",
       "      <td>0.397051</td>\n",
       "      <td>0.397051</td>\n",
       "      <td>0.852376</td>\n",
       "      <td>0.845971</td>\n",
       "      <td>0.843580</td>\n",
       "      <td>0.845971</td>\n",
       "    </tr>\n",
       "    <tr>\n",
       "      <th></th>\n",
       "      <td>3000</td>\n",
       "      <td>0.389152</td>\n",
       "      <td>0.389152</td>\n",
       "      <td>0.389152</td>\n",
       "      <td>0.389152</td>\n",
       "      <td>0.842729</td>\n",
       "      <td>0.833856</td>\n",
       "      <td>0.830888</td>\n",
       "      <td>0.833856</td>\n",
       "    </tr>\n",
       "    <tr>\n",
       "      <th>Trigram</th>\n",
       "      <td>1000</td>\n",
       "      <td>0.387046</td>\n",
       "      <td>0.387046</td>\n",
       "      <td>0.387046</td>\n",
       "      <td>0.387046</td>\n",
       "      <td>0.850061</td>\n",
       "      <td>0.842811</td>\n",
       "      <td>0.840249</td>\n",
       "      <td>0.842811</td>\n",
       "    </tr>\n",
       "    <tr>\n",
       "      <th></th>\n",
       "      <td>3000</td>\n",
       "      <td>0.414165</td>\n",
       "      <td>0.414165</td>\n",
       "      <td>0.414165</td>\n",
       "      <td>0.414165</td>\n",
       "      <td>0.844093</td>\n",
       "      <td>0.836224</td>\n",
       "      <td>0.833545</td>\n",
       "      <td>0.836224</td>\n",
       "    </tr>\n",
       "    <tr>\n",
       "      <th>Four-gram</th>\n",
       "      <td>1000</td>\n",
       "      <td>0.438915</td>\n",
       "      <td>0.438915</td>\n",
       "      <td>0.438915</td>\n",
       "      <td>0.438915</td>\n",
       "      <td>0.848001</td>\n",
       "      <td>0.840440</td>\n",
       "      <td>0.837844</td>\n",
       "      <td>0.840440</td>\n",
       "    </tr>\n",
       "    <tr>\n",
       "      <th></th>\n",
       "      <td>3000</td>\n",
       "      <td>0.384676</td>\n",
       "      <td>0.384676</td>\n",
       "      <td>0.384676</td>\n",
       "      <td>0.384676</td>\n",
       "      <td>0.841758</td>\n",
       "      <td>0.833849</td>\n",
       "      <td>0.831018</td>\n",
       "      <td>0.833849</td>\n",
       "    </tr>\n",
       "  </tbody>\n",
       "</table>\n",
       "</div>"
      ],
      "text/plain": [
       "           Distance  Precision    Recall        F1  Accuracy  \\\n",
       "Unigram        1000   0.445498  0.445498  0.445498  0.445498   \n",
       "               3000   0.402844  0.402844  0.402844  0.402844   \n",
       "Bigram         1000   0.397051  0.397051  0.397051  0.397051   \n",
       "               3000   0.389152  0.389152  0.389152  0.389152   \n",
       "Trigram        1000   0.387046  0.387046  0.387046  0.387046   \n",
       "               3000   0.414165  0.414165  0.414165  0.414165   \n",
       "Four-gram      1000   0.438915  0.438915  0.438915  0.438915   \n",
       "               3000   0.384676  0.384676  0.384676  0.384676   \n",
       "\n",
       "           Precision(CV=10)  Recall(CV=10)  F1(CV=10)  Accuracy(CV=10)  \n",
       "Unigram            0.860155       0.854386   0.852308         0.854386  \n",
       "                   0.849259       0.840958   0.838558         0.840958  \n",
       "Bigram             0.852376       0.845971   0.843580         0.845971  \n",
       "                   0.842729       0.833856   0.830888         0.833856  \n",
       "Trigram            0.850061       0.842811   0.840249         0.842811  \n",
       "                   0.844093       0.836224   0.833545         0.836224  \n",
       "Four-gram          0.848001       0.840440   0.837844         0.840440  \n",
       "                   0.841758       0.833849   0.831018         0.833849  "
      ]
     },
     "execution_count": 97,
     "metadata": {},
     "output_type": "execute_result"
    }
   ],
   "source": [
    "rf_res = pd.concat([rf_test_dataframe, rf_cv_dataframe], axis=1, join='outer')\n",
    "rf_res.insert(0, 'Distance', [1000, 3000, 1000, 3000, 1000, 3000, 1000, 3000])\n",
    "rf_res"
   ]
  },
  {
   "cell_type": "markdown",
   "id": "374cfd66",
   "metadata": {},
   "source": [
    "#### Save the dataframe"
   ]
  },
  {
   "cell_type": "code",
   "execution_count": 98,
   "id": "8e95c3cc",
   "metadata": {},
   "outputs": [],
   "source": [
    "rf_res.to_csv('RF_result.csv',encoding = 'utf8') "
   ]
  },
  {
   "cell_type": "markdown",
   "id": "77eedc9f",
   "metadata": {},
   "source": [
    "# LR(Logistic Regression)"
   ]
  },
  {
   "cell_type": "code",
   "execution_count": 99,
   "id": "e0c3462c",
   "metadata": {},
   "outputs": [],
   "source": [
    "from sklearn.linear_model import LogisticRegression"
   ]
  },
  {
   "cell_type": "markdown",
   "id": "77f6da1b",
   "metadata": {},
   "source": [
    "#### Create a function to collect the four standard evaluation metrics for LR model in the normal testing results"
   ]
  },
  {
   "cell_type": "code",
   "execution_count": 100,
   "id": "850e38e1",
   "metadata": {},
   "outputs": [],
   "source": [
    "def lr_test(x_train_set,x_test_set):\n",
    "    \n",
    "    lr_clf = LogisticRegression()\n",
    "    lr_clf.fit(x_train_set,y_train)\n",
    "    \n",
    "    y_pred = lr_clf.predict(x_test_set)\n",
    "\n",
    "    return[precision_score(y_test, y_pred, average='micro'),\n",
    "           recall_score(y_test, y_pred, average='micro'),\n",
    "           f1_score(y_test, y_pred, average='micro'),\n",
    "           accuracy_score(y_test, y_pred)]"
   ]
  },
  {
   "cell_type": "markdown",
   "id": "6e589373",
   "metadata": {},
   "source": [
    "#### Create a function to collect the four standard evaluation metrics for LR model in the 10-fold CV testing results"
   ]
  },
  {
   "cell_type": "code",
   "execution_count": 101,
   "id": "46d5061b",
   "metadata": {},
   "outputs": [],
   "source": [
    "def lr_cv_test(x_train_set, x_test_set):\n",
    "\n",
    "    lr_clf = LogisticRegression()\n",
    "    kfold = model_selection.KFold(n_splits=10, shuffle=True, random_state=123)\n",
    "\n",
    "    lr_clf.fit(x_train_set, y_train)\n",
    "\n",
    "    return[cross_val_score(lr_clf, x_test_set, y_test, cv=kfold, scoring='precision_weighted').mean(),\n",
    "           cross_val_score(lr_clf, x_test_set, y_test, cv=kfold,\n",
    "                           scoring='recall_weighted').mean(),\n",
    "           cross_val_score(lr_clf, x_test_set, y_test,\n",
    "                           cv=kfold, scoring='f1_weighted').mean(),\n",
    "           cross_val_score(lr_clf, x_test_set, y_test, cv=kfold, scoring='accuracy').mean()]"
   ]
  },
  {
   "cell_type": "markdown",
   "id": "ae7bb058",
   "metadata": {},
   "source": [
    "#### Create a dataframe to capture the four standard testing results for the whole TF-IDF models in LR"
   ]
  },
  {
   "cell_type": "code",
   "execution_count": 102,
   "id": "489893f5",
   "metadata": {},
   "outputs": [
    {
     "name": "stderr",
     "output_type": "stream",
     "text": [
      "/Users/baihaicen/opt/anaconda3/lib/python3.9/site-packages/sklearn/linear_model/_logistic.py:763: ConvergenceWarning: lbfgs failed to converge (status=1):\n",
      "STOP: TOTAL NO. of ITERATIONS REACHED LIMIT.\n",
      "\n",
      "Increase the number of iterations (max_iter) or scale the data as shown in:\n",
      "    https://scikit-learn.org/stable/modules/preprocessing.html\n",
      "Please also refer to the documentation for alternative solver options:\n",
      "    https://scikit-learn.org/stable/modules/linear_model.html#logistic-regression\n",
      "  n_iter_i = _check_optimize_result(\n",
      "/Users/baihaicen/opt/anaconda3/lib/python3.9/site-packages/sklearn/linear_model/_logistic.py:763: ConvergenceWarning: lbfgs failed to converge (status=1):\n",
      "STOP: TOTAL NO. of ITERATIONS REACHED LIMIT.\n",
      "\n",
      "Increase the number of iterations (max_iter) or scale the data as shown in:\n",
      "    https://scikit-learn.org/stable/modules/preprocessing.html\n",
      "Please also refer to the documentation for alternative solver options:\n",
      "    https://scikit-learn.org/stable/modules/linear_model.html#logistic-regression\n",
      "  n_iter_i = _check_optimize_result(\n",
      "/Users/baihaicen/opt/anaconda3/lib/python3.9/site-packages/sklearn/linear_model/_logistic.py:763: ConvergenceWarning: lbfgs failed to converge (status=1):\n",
      "STOP: TOTAL NO. of ITERATIONS REACHED LIMIT.\n",
      "\n",
      "Increase the number of iterations (max_iter) or scale the data as shown in:\n",
      "    https://scikit-learn.org/stable/modules/preprocessing.html\n",
      "Please also refer to the documentation for alternative solver options:\n",
      "    https://scikit-learn.org/stable/modules/linear_model.html#logistic-regression\n",
      "  n_iter_i = _check_optimize_result(\n",
      "/Users/baihaicen/opt/anaconda3/lib/python3.9/site-packages/sklearn/linear_model/_logistic.py:763: ConvergenceWarning: lbfgs failed to converge (status=1):\n",
      "STOP: TOTAL NO. of ITERATIONS REACHED LIMIT.\n",
      "\n",
      "Increase the number of iterations (max_iter) or scale the data as shown in:\n",
      "    https://scikit-learn.org/stable/modules/preprocessing.html\n",
      "Please also refer to the documentation for alternative solver options:\n",
      "    https://scikit-learn.org/stable/modules/linear_model.html#logistic-regression\n",
      "  n_iter_i = _check_optimize_result(\n",
      "/Users/baihaicen/opt/anaconda3/lib/python3.9/site-packages/sklearn/linear_model/_logistic.py:763: ConvergenceWarning: lbfgs failed to converge (status=1):\n",
      "STOP: TOTAL NO. of ITERATIONS REACHED LIMIT.\n",
      "\n",
      "Increase the number of iterations (max_iter) or scale the data as shown in:\n",
      "    https://scikit-learn.org/stable/modules/preprocessing.html\n",
      "Please also refer to the documentation for alternative solver options:\n",
      "    https://scikit-learn.org/stable/modules/linear_model.html#logistic-regression\n",
      "  n_iter_i = _check_optimize_result(\n",
      "/Users/baihaicen/opt/anaconda3/lib/python3.9/site-packages/sklearn/linear_model/_logistic.py:763: ConvergenceWarning: lbfgs failed to converge (status=1):\n",
      "STOP: TOTAL NO. of ITERATIONS REACHED LIMIT.\n",
      "\n",
      "Increase the number of iterations (max_iter) or scale the data as shown in:\n",
      "    https://scikit-learn.org/stable/modules/preprocessing.html\n",
      "Please also refer to the documentation for alternative solver options:\n",
      "    https://scikit-learn.org/stable/modules/linear_model.html#logistic-regression\n",
      "  n_iter_i = _check_optimize_result(\n",
      "/Users/baihaicen/opt/anaconda3/lib/python3.9/site-packages/sklearn/linear_model/_logistic.py:763: ConvergenceWarning: lbfgs failed to converge (status=1):\n",
      "STOP: TOTAL NO. of ITERATIONS REACHED LIMIT.\n",
      "\n",
      "Increase the number of iterations (max_iter) or scale the data as shown in:\n",
      "    https://scikit-learn.org/stable/modules/preprocessing.html\n",
      "Please also refer to the documentation for alternative solver options:\n",
      "    https://scikit-learn.org/stable/modules/linear_model.html#logistic-regression\n",
      "  n_iter_i = _check_optimize_result(\n",
      "/Users/baihaicen/opt/anaconda3/lib/python3.9/site-packages/sklearn/linear_model/_logistic.py:763: ConvergenceWarning: lbfgs failed to converge (status=1):\n",
      "STOP: TOTAL NO. of ITERATIONS REACHED LIMIT.\n",
      "\n",
      "Increase the number of iterations (max_iter) or scale the data as shown in:\n",
      "    https://scikit-learn.org/stable/modules/preprocessing.html\n",
      "Please also refer to the documentation for alternative solver options:\n",
      "    https://scikit-learn.org/stable/modules/linear_model.html#logistic-regression\n",
      "  n_iter_i = _check_optimize_result(\n"
     ]
    },
    {
     "data": {
      "text/html": [
       "<div>\n",
       "<style scoped>\n",
       "    .dataframe tbody tr th:only-of-type {\n",
       "        vertical-align: middle;\n",
       "    }\n",
       "\n",
       "    .dataframe tbody tr th {\n",
       "        vertical-align: top;\n",
       "    }\n",
       "\n",
       "    .dataframe thead th {\n",
       "        text-align: right;\n",
       "    }\n",
       "</style>\n",
       "<table border=\"1\" class=\"dataframe\">\n",
       "  <thead>\n",
       "    <tr style=\"text-align: right;\">\n",
       "      <th></th>\n",
       "      <th>Precision</th>\n",
       "      <th>Recall</th>\n",
       "      <th>F1</th>\n",
       "      <th>Accuracy</th>\n",
       "    </tr>\n",
       "  </thead>\n",
       "  <tbody>\n",
       "    <tr>\n",
       "      <th>Unigram</th>\n",
       "      <td>0.441285</td>\n",
       "      <td>0.441285</td>\n",
       "      <td>0.441285</td>\n",
       "      <td>0.441285</td>\n",
       "    </tr>\n",
       "    <tr>\n",
       "      <th></th>\n",
       "      <td>0.382833</td>\n",
       "      <td>0.382833</td>\n",
       "      <td>0.382833</td>\n",
       "      <td>0.382833</td>\n",
       "    </tr>\n",
       "    <tr>\n",
       "      <th>Bigram</th>\n",
       "      <td>0.403633</td>\n",
       "      <td>0.403633</td>\n",
       "      <td>0.403633</td>\n",
       "      <td>0.403633</td>\n",
       "    </tr>\n",
       "    <tr>\n",
       "      <th></th>\n",
       "      <td>0.387309</td>\n",
       "      <td>0.387309</td>\n",
       "      <td>0.387309</td>\n",
       "      <td>0.387309</td>\n",
       "    </tr>\n",
       "    <tr>\n",
       "      <th>Trigram</th>\n",
       "      <td>0.389415</td>\n",
       "      <td>0.389415</td>\n",
       "      <td>0.389415</td>\n",
       "      <td>0.389415</td>\n",
       "    </tr>\n",
       "    <tr>\n",
       "      <th></th>\n",
       "      <td>0.399157</td>\n",
       "      <td>0.399157</td>\n",
       "      <td>0.399157</td>\n",
       "      <td>0.399157</td>\n",
       "    </tr>\n",
       "    <tr>\n",
       "      <th>Four-gram</th>\n",
       "      <td>0.436019</td>\n",
       "      <td>0.436019</td>\n",
       "      <td>0.436019</td>\n",
       "      <td>0.436019</td>\n",
       "    </tr>\n",
       "    <tr>\n",
       "      <th></th>\n",
       "      <td>0.373091</td>\n",
       "      <td>0.373091</td>\n",
       "      <td>0.373091</td>\n",
       "      <td>0.373091</td>\n",
       "    </tr>\n",
       "  </tbody>\n",
       "</table>\n",
       "</div>"
      ],
      "text/plain": [
       "           Precision    Recall        F1  Accuracy\n",
       "Unigram     0.441285  0.441285  0.441285  0.441285\n",
       "            0.382833  0.382833  0.382833  0.382833\n",
       "Bigram      0.403633  0.403633  0.403633  0.403633\n",
       "            0.387309  0.387309  0.387309  0.387309\n",
       "Trigram     0.389415  0.389415  0.389415  0.389415\n",
       "            0.399157  0.399157  0.399157  0.399157\n",
       "Four-gram   0.436019  0.436019  0.436019  0.436019\n",
       "            0.373091  0.373091  0.373091  0.373091"
      ]
     },
     "execution_count": 102,
     "metadata": {},
     "output_type": "execute_result"
    }
   ],
   "source": [
    "    \n",
    "lr_test_dataframe = pd.DataFrame([lr_test(x_train_1_u, x_test_1_u),\n",
    "                                   lr_test(x_train_3_u, x_test_3_u),\n",
    "                                   lr_test(x_train_1_b, x_test_1_b),\n",
    "                                   lr_test(x_train_3_b, x_test_3_b),\n",
    "                                   lr_test(x_train_1_t, x_test_1_t),\n",
    "                                   lr_test(x_train_3_t, x_test_3_t),\n",
    "                                   lr_test(x_train_1_f, x_test_1_f),\n",
    "                                   lr_test(x_train_3_f, x_test_3_f)],\n",
    "                                  columns=['Precision', 'Recall', 'F1', 'Accuracy'],\n",
    "                                  index=['Unigram', '', 'Bigram', '', 'Trigram', '', 'Four-gram', ''])\n",
    "\n",
    "lr_test_dataframe"
   ]
  },
  {
   "cell_type": "markdown",
   "id": "c724934f",
   "metadata": {},
   "source": [
    "#### Create a dataframe to capture the four standard CV testing results for the whole TF-IDF models in LR"
   ]
  },
  {
   "cell_type": "code",
   "execution_count": 103,
   "id": "84330d55",
   "metadata": {},
   "outputs": [
    {
     "name": "stderr",
     "output_type": "stream",
     "text": [
      "/Users/baihaicen/opt/anaconda3/lib/python3.9/site-packages/sklearn/linear_model/_logistic.py:763: ConvergenceWarning: lbfgs failed to converge (status=1):\n",
      "STOP: TOTAL NO. of ITERATIONS REACHED LIMIT.\n",
      "\n",
      "Increase the number of iterations (max_iter) or scale the data as shown in:\n",
      "    https://scikit-learn.org/stable/modules/preprocessing.html\n",
      "Please also refer to the documentation for alternative solver options:\n",
      "    https://scikit-learn.org/stable/modules/linear_model.html#logistic-regression\n",
      "  n_iter_i = _check_optimize_result(\n",
      "/Users/baihaicen/opt/anaconda3/lib/python3.9/site-packages/sklearn/linear_model/_logistic.py:763: ConvergenceWarning: lbfgs failed to converge (status=1):\n",
      "STOP: TOTAL NO. of ITERATIONS REACHED LIMIT.\n",
      "\n",
      "Increase the number of iterations (max_iter) or scale the data as shown in:\n",
      "    https://scikit-learn.org/stable/modules/preprocessing.html\n",
      "Please also refer to the documentation for alternative solver options:\n",
      "    https://scikit-learn.org/stable/modules/linear_model.html#logistic-regression\n",
      "  n_iter_i = _check_optimize_result(\n",
      "/Users/baihaicen/opt/anaconda3/lib/python3.9/site-packages/sklearn/linear_model/_logistic.py:763: ConvergenceWarning: lbfgs failed to converge (status=1):\n",
      "STOP: TOTAL NO. of ITERATIONS REACHED LIMIT.\n",
      "\n",
      "Increase the number of iterations (max_iter) or scale the data as shown in:\n",
      "    https://scikit-learn.org/stable/modules/preprocessing.html\n",
      "Please also refer to the documentation for alternative solver options:\n",
      "    https://scikit-learn.org/stable/modules/linear_model.html#logistic-regression\n",
      "  n_iter_i = _check_optimize_result(\n",
      "/Users/baihaicen/opt/anaconda3/lib/python3.9/site-packages/sklearn/linear_model/_logistic.py:763: ConvergenceWarning: lbfgs failed to converge (status=1):\n",
      "STOP: TOTAL NO. of ITERATIONS REACHED LIMIT.\n",
      "\n",
      "Increase the number of iterations (max_iter) or scale the data as shown in:\n",
      "    https://scikit-learn.org/stable/modules/preprocessing.html\n",
      "Please also refer to the documentation for alternative solver options:\n",
      "    https://scikit-learn.org/stable/modules/linear_model.html#logistic-regression\n",
      "  n_iter_i = _check_optimize_result(\n",
      "/Users/baihaicen/opt/anaconda3/lib/python3.9/site-packages/sklearn/linear_model/_logistic.py:763: ConvergenceWarning: lbfgs failed to converge (status=1):\n",
      "STOP: TOTAL NO. of ITERATIONS REACHED LIMIT.\n",
      "\n",
      "Increase the number of iterations (max_iter) or scale the data as shown in:\n",
      "    https://scikit-learn.org/stable/modules/preprocessing.html\n",
      "Please also refer to the documentation for alternative solver options:\n",
      "    https://scikit-learn.org/stable/modules/linear_model.html#logistic-regression\n",
      "  n_iter_i = _check_optimize_result(\n",
      "/Users/baihaicen/opt/anaconda3/lib/python3.9/site-packages/sklearn/linear_model/_logistic.py:763: ConvergenceWarning: lbfgs failed to converge (status=1):\n",
      "STOP: TOTAL NO. of ITERATIONS REACHED LIMIT.\n",
      "\n",
      "Increase the number of iterations (max_iter) or scale the data as shown in:\n",
      "    https://scikit-learn.org/stable/modules/preprocessing.html\n",
      "Please also refer to the documentation for alternative solver options:\n",
      "    https://scikit-learn.org/stable/modules/linear_model.html#logistic-regression\n",
      "  n_iter_i = _check_optimize_result(\n",
      "/Users/baihaicen/opt/anaconda3/lib/python3.9/site-packages/sklearn/linear_model/_logistic.py:763: ConvergenceWarning: lbfgs failed to converge (status=1):\n",
      "STOP: TOTAL NO. of ITERATIONS REACHED LIMIT.\n",
      "\n",
      "Increase the number of iterations (max_iter) or scale the data as shown in:\n",
      "    https://scikit-learn.org/stable/modules/preprocessing.html\n",
      "Please also refer to the documentation for alternative solver options:\n",
      "    https://scikit-learn.org/stable/modules/linear_model.html#logistic-regression\n",
      "  n_iter_i = _check_optimize_result(\n",
      "/Users/baihaicen/opt/anaconda3/lib/python3.9/site-packages/sklearn/linear_model/_logistic.py:763: ConvergenceWarning: lbfgs failed to converge (status=1):\n",
      "STOP: TOTAL NO. of ITERATIONS REACHED LIMIT.\n",
      "\n",
      "Increase the number of iterations (max_iter) or scale the data as shown in:\n",
      "    https://scikit-learn.org/stable/modules/preprocessing.html\n",
      "Please also refer to the documentation for alternative solver options:\n",
      "    https://scikit-learn.org/stable/modules/linear_model.html#logistic-regression\n",
      "  n_iter_i = _check_optimize_result(\n"
     ]
    },
    {
     "data": {
      "text/html": [
       "<div>\n",
       "<style scoped>\n",
       "    .dataframe tbody tr th:only-of-type {\n",
       "        vertical-align: middle;\n",
       "    }\n",
       "\n",
       "    .dataframe tbody tr th {\n",
       "        vertical-align: top;\n",
       "    }\n",
       "\n",
       "    .dataframe thead th {\n",
       "        text-align: right;\n",
       "    }\n",
       "</style>\n",
       "<table border=\"1\" class=\"dataframe\">\n",
       "  <thead>\n",
       "    <tr style=\"text-align: right;\">\n",
       "      <th></th>\n",
       "      <th>Precision(CV=10)</th>\n",
       "      <th>Recall(CV=10)</th>\n",
       "      <th>F1(CV=10)</th>\n",
       "      <th>Accuracy(CV=10)</th>\n",
       "    </tr>\n",
       "  </thead>\n",
       "  <tbody>\n",
       "    <tr>\n",
       "      <th>Unigram</th>\n",
       "      <td>0.801689</td>\n",
       "      <td>0.794882</td>\n",
       "      <td>0.792938</td>\n",
       "      <td>0.794882</td>\n",
       "    </tr>\n",
       "    <tr>\n",
       "      <th></th>\n",
       "      <td>0.790786</td>\n",
       "      <td>0.780930</td>\n",
       "      <td>0.778130</td>\n",
       "      <td>0.780930</td>\n",
       "    </tr>\n",
       "    <tr>\n",
       "      <th>Bigram</th>\n",
       "      <td>0.792029</td>\n",
       "      <td>0.785399</td>\n",
       "      <td>0.783084</td>\n",
       "      <td>0.785399</td>\n",
       "    </tr>\n",
       "    <tr>\n",
       "      <th></th>\n",
       "      <td>0.773436</td>\n",
       "      <td>0.764080</td>\n",
       "      <td>0.760738</td>\n",
       "      <td>0.764080</td>\n",
       "    </tr>\n",
       "    <tr>\n",
       "      <th>Trigram</th>\n",
       "      <td>0.790354</td>\n",
       "      <td>0.783558</td>\n",
       "      <td>0.781363</td>\n",
       "      <td>0.783558</td>\n",
       "    </tr>\n",
       "    <tr>\n",
       "      <th></th>\n",
       "      <td>0.772875</td>\n",
       "      <td>0.763291</td>\n",
       "      <td>0.759766</td>\n",
       "      <td>0.763291</td>\n",
       "    </tr>\n",
       "    <tr>\n",
       "      <th>Four-gram</th>\n",
       "      <td>0.791268</td>\n",
       "      <td>0.784082</td>\n",
       "      <td>0.781594</td>\n",
       "      <td>0.784082</td>\n",
       "    </tr>\n",
       "    <tr>\n",
       "      <th></th>\n",
       "      <td>0.773015</td>\n",
       "      <td>0.764341</td>\n",
       "      <td>0.760645</td>\n",
       "      <td>0.764341</td>\n",
       "    </tr>\n",
       "  </tbody>\n",
       "</table>\n",
       "</div>"
      ],
      "text/plain": [
       "           Precision(CV=10)  Recall(CV=10)  F1(CV=10)  Accuracy(CV=10)\n",
       "Unigram            0.801689       0.794882   0.792938         0.794882\n",
       "                   0.790786       0.780930   0.778130         0.780930\n",
       "Bigram             0.792029       0.785399   0.783084         0.785399\n",
       "                   0.773436       0.764080   0.760738         0.764080\n",
       "Trigram            0.790354       0.783558   0.781363         0.783558\n",
       "                   0.772875       0.763291   0.759766         0.763291\n",
       "Four-gram          0.791268       0.784082   0.781594         0.784082\n",
       "                   0.773015       0.764341   0.760645         0.764341"
      ]
     },
     "execution_count": 103,
     "metadata": {},
     "output_type": "execute_result"
    }
   ],
   "source": [
    "lr_cv_dataframe = pd.DataFrame([lr_cv_test(x_train_1_u, x_test_1_u),\n",
    "                                 lr_cv_test(x_train_3_u, x_test_3_u),\n",
    "                                 lr_cv_test(x_train_1_b, x_test_1_b),\n",
    "                                 lr_cv_test(x_train_3_b, x_test_3_b),\n",
    "                                 lr_cv_test(x_train_1_t, x_test_1_t),\n",
    "                                 lr_cv_test(x_train_3_t, x_test_3_t),\n",
    "                                 lr_cv_test(x_train_1_f, x_test_1_f),\n",
    "                                 lr_cv_test(x_train_3_f, x_test_3_f)],\n",
    "                                columns=['Precision(CV=10)', 'Recall(CV=10)', 'F1(CV=10)', 'Accuracy(CV=10)'],\n",
    "                                index=['Unigram', '', 'Bigram', '', 'Trigram', '', 'Four-gram', ''])\n",
    "\n",
    "lr_cv_dataframe"
   ]
  },
  {
   "cell_type": "markdown",
   "id": "11c50694",
   "metadata": {},
   "source": [
    "#### Create a dataframe to combine two dataframes above, columns outside the intersection will be filled by both of the first same column"
   ]
  },
  {
   "cell_type": "code",
   "execution_count": 104,
   "id": "586ac2ab",
   "metadata": {},
   "outputs": [
    {
     "data": {
      "text/html": [
       "<div>\n",
       "<style scoped>\n",
       "    .dataframe tbody tr th:only-of-type {\n",
       "        vertical-align: middle;\n",
       "    }\n",
       "\n",
       "    .dataframe tbody tr th {\n",
       "        vertical-align: top;\n",
       "    }\n",
       "\n",
       "    .dataframe thead th {\n",
       "        text-align: right;\n",
       "    }\n",
       "</style>\n",
       "<table border=\"1\" class=\"dataframe\">\n",
       "  <thead>\n",
       "    <tr style=\"text-align: right;\">\n",
       "      <th></th>\n",
       "      <th>Distance</th>\n",
       "      <th>Precision</th>\n",
       "      <th>Recall</th>\n",
       "      <th>F1</th>\n",
       "      <th>Accuracy</th>\n",
       "      <th>Precision(CV=10)</th>\n",
       "      <th>Recall(CV=10)</th>\n",
       "      <th>F1(CV=10)</th>\n",
       "      <th>Accuracy(CV=10)</th>\n",
       "    </tr>\n",
       "  </thead>\n",
       "  <tbody>\n",
       "    <tr>\n",
       "      <th>Unigram</th>\n",
       "      <td>1000</td>\n",
       "      <td>0.441285</td>\n",
       "      <td>0.441285</td>\n",
       "      <td>0.441285</td>\n",
       "      <td>0.441285</td>\n",
       "      <td>0.801689</td>\n",
       "      <td>0.794882</td>\n",
       "      <td>0.792938</td>\n",
       "      <td>0.794882</td>\n",
       "    </tr>\n",
       "    <tr>\n",
       "      <th></th>\n",
       "      <td>3000</td>\n",
       "      <td>0.382833</td>\n",
       "      <td>0.382833</td>\n",
       "      <td>0.382833</td>\n",
       "      <td>0.382833</td>\n",
       "      <td>0.790786</td>\n",
       "      <td>0.780930</td>\n",
       "      <td>0.778130</td>\n",
       "      <td>0.780930</td>\n",
       "    </tr>\n",
       "    <tr>\n",
       "      <th>Bigram</th>\n",
       "      <td>1000</td>\n",
       "      <td>0.403633</td>\n",
       "      <td>0.403633</td>\n",
       "      <td>0.403633</td>\n",
       "      <td>0.403633</td>\n",
       "      <td>0.792029</td>\n",
       "      <td>0.785399</td>\n",
       "      <td>0.783084</td>\n",
       "      <td>0.785399</td>\n",
       "    </tr>\n",
       "    <tr>\n",
       "      <th></th>\n",
       "      <td>3000</td>\n",
       "      <td>0.387309</td>\n",
       "      <td>0.387309</td>\n",
       "      <td>0.387309</td>\n",
       "      <td>0.387309</td>\n",
       "      <td>0.773436</td>\n",
       "      <td>0.764080</td>\n",
       "      <td>0.760738</td>\n",
       "      <td>0.764080</td>\n",
       "    </tr>\n",
       "    <tr>\n",
       "      <th>Trigram</th>\n",
       "      <td>1000</td>\n",
       "      <td>0.389415</td>\n",
       "      <td>0.389415</td>\n",
       "      <td>0.389415</td>\n",
       "      <td>0.389415</td>\n",
       "      <td>0.790354</td>\n",
       "      <td>0.783558</td>\n",
       "      <td>0.781363</td>\n",
       "      <td>0.783558</td>\n",
       "    </tr>\n",
       "    <tr>\n",
       "      <th></th>\n",
       "      <td>3000</td>\n",
       "      <td>0.399157</td>\n",
       "      <td>0.399157</td>\n",
       "      <td>0.399157</td>\n",
       "      <td>0.399157</td>\n",
       "      <td>0.772875</td>\n",
       "      <td>0.763291</td>\n",
       "      <td>0.759766</td>\n",
       "      <td>0.763291</td>\n",
       "    </tr>\n",
       "    <tr>\n",
       "      <th>Four-gram</th>\n",
       "      <td>1000</td>\n",
       "      <td>0.436019</td>\n",
       "      <td>0.436019</td>\n",
       "      <td>0.436019</td>\n",
       "      <td>0.436019</td>\n",
       "      <td>0.791268</td>\n",
       "      <td>0.784082</td>\n",
       "      <td>0.781594</td>\n",
       "      <td>0.784082</td>\n",
       "    </tr>\n",
       "    <tr>\n",
       "      <th></th>\n",
       "      <td>3000</td>\n",
       "      <td>0.373091</td>\n",
       "      <td>0.373091</td>\n",
       "      <td>0.373091</td>\n",
       "      <td>0.373091</td>\n",
       "      <td>0.773015</td>\n",
       "      <td>0.764341</td>\n",
       "      <td>0.760645</td>\n",
       "      <td>0.764341</td>\n",
       "    </tr>\n",
       "  </tbody>\n",
       "</table>\n",
       "</div>"
      ],
      "text/plain": [
       "           Distance  Precision    Recall        F1  Accuracy  \\\n",
       "Unigram        1000   0.441285  0.441285  0.441285  0.441285   \n",
       "               3000   0.382833  0.382833  0.382833  0.382833   \n",
       "Bigram         1000   0.403633  0.403633  0.403633  0.403633   \n",
       "               3000   0.387309  0.387309  0.387309  0.387309   \n",
       "Trigram        1000   0.389415  0.389415  0.389415  0.389415   \n",
       "               3000   0.399157  0.399157  0.399157  0.399157   \n",
       "Four-gram      1000   0.436019  0.436019  0.436019  0.436019   \n",
       "               3000   0.373091  0.373091  0.373091  0.373091   \n",
       "\n",
       "           Precision(CV=10)  Recall(CV=10)  F1(CV=10)  Accuracy(CV=10)  \n",
       "Unigram            0.801689       0.794882   0.792938         0.794882  \n",
       "                   0.790786       0.780930   0.778130         0.780930  \n",
       "Bigram             0.792029       0.785399   0.783084         0.785399  \n",
       "                   0.773436       0.764080   0.760738         0.764080  \n",
       "Trigram            0.790354       0.783558   0.781363         0.783558  \n",
       "                   0.772875       0.763291   0.759766         0.763291  \n",
       "Four-gram          0.791268       0.784082   0.781594         0.784082  \n",
       "                   0.773015       0.764341   0.760645         0.764341  "
      ]
     },
     "execution_count": 104,
     "metadata": {},
     "output_type": "execute_result"
    }
   ],
   "source": [
    "lr_res = pd.concat([lr_test_dataframe, lr_cv_dataframe], axis=1, join='outer')\n",
    "lr_res.insert(0, 'Distance', [1000, 3000, 1000, 3000, 1000, 3000, 1000, 3000])\n",
    "lr_res"
   ]
  },
  {
   "cell_type": "markdown",
   "id": "a240c812",
   "metadata": {},
   "source": [
    "#### Save the dataframe"
   ]
  },
  {
   "cell_type": "code",
   "execution_count": 105,
   "id": "47ebb960",
   "metadata": {
    "scrolled": false
   },
   "outputs": [],
   "source": [
    "lr_res.to_csv('LR_result.csv',encoding = 'utf8') "
   ]
  },
  {
   "cell_type": "markdown",
   "id": "8600c175",
   "metadata": {},
   "source": [
    "# The Performance of The Best Model\n",
    "- Find the performance of the best models for each feature extraction method for the cross-validation testing results and the normal testing results.\n",
    "- All models have utilized the larger matrix size of the dataset using 3000 matrix size of the dataset to improve our results.\n"
   ]
  },
  {
   "cell_type": "code",
   "execution_count": 127,
   "id": "64742534",
   "metadata": {},
   "outputs": [],
   "source": [
    "import matplotlib\n",
    "import matplotlib.pyplot as plt\n",
    "import numpy as np\n",
    "\n",
    "labels = ['Precision', 'Recall', 'F1-score', 'Accuracy']\n",
    "dt = list(((dt_res.loc[dt_res['Distance']==3000]).max())[['Precision','Recall','F1','Accuracy']])\n",
    "lr = list(((lr_res.loc[dt_res['Distance']==3000]).max())[['Precision','Recall','F1','Accuracy']])\n",
    "knn = list(((knn_res.loc[dt_res['Distance']==3000]).max())[['Precision','Recall','F1','Accuracy']])\n",
    "rf = list(((rf_res.loc[dt_res['Distance']==3000]).max())[['Precision','Recall','F1','Accuracy']])\n",
    "svm = list(((svm_res.loc[dt_res['Distance']==3000]).max())[['Precision','Recall','F1','Accuracy']])\n",
    "\n",
    "dt_cv = list(((dt_res.loc[dt_res['Distance']==3000]).max())[['Precision(CV=10)','Recall(CV=10)','F1(CV=10)','Accuracy(CV=10)']])\n",
    "lr_cv = list(((lr_res.loc[dt_res['Distance']==3000]).max())[['Precision(CV=10)','Recall(CV=10)','F1(CV=10)','Accuracy(CV=10)']])\n",
    "knn_cv = list(((knn_res.loc[dt_res['Distance']==3000]).max())[['Precision(CV=10)','Recall(CV=10)','F1(CV=10)','Accuracy(CV=10)']])\n",
    "rf_cv = list(((rf_res.loc[dt_res['Distance']==3000]).max())[['Precision(CV=10)','Recall(CV=10)','F1(CV=10)','Accuracy(CV=10)']])\n",
    "svm_cv = list(((svm_res.loc[dt_res['Distance']==3000]).max())[['Precision(CV=10)','Recall(CV=10)','F1(CV=10)','Accuracy(CV=10)']])"
   ]
  },
  {
   "cell_type": "code",
   "execution_count": null,
   "id": "a44821ae",
   "metadata": {},
   "outputs": [],
   "source": []
  },
  {
   "cell_type": "markdown",
   "id": "f9aa62ef",
   "metadata": {},
   "source": [
    "### The best normal testing performance"
   ]
  },
  {
   "cell_type": "code",
   "execution_count": 128,
   "id": "d970e94a",
   "metadata": {},
   "outputs": [
    {
     "data": {
      "text/plain": [
       "<function matplotlib.pyplot.show(close=None, block=None)>"
      ]
     },
     "execution_count": 128,
     "metadata": {},
     "output_type": "execute_result"
    },
    {
     "data": {
      "image/png": "[encoded data removed]",
      "text/plain": [
       "<Figure size 432x288 with 1 Axes>"
      ]
     },
     "metadata": {
      "needs_background": "light"
     },
     "output_type": "display_data"
    }
   ],
   "source": [
    "x = list(range(len(labels)))\n",
    "total_width, n = 0.5, 4\n",
    "width = total_width / n\n",
    "\n",
    "b1 = plt.bar(x, dt, width=width, label='DT', tick_label=labels)\n",
    "for i in range(len(x)):\n",
    "    x[i]=x[i]+width\n",
    "b2 = plt.bar(x, lr, width=width, label='LR')\n",
    "for i in range(len(x)):\n",
    "    x[i]=x[i]+width\n",
    "b3 = plt.bar(x, knn, width=width, label='KNN')\n",
    "for i in range(len(x)):\n",
    "    x[i]=x[i]+width\n",
    "b4 = plt.bar(x, rf, width=width, label='RF')\n",
    "for i in range(len(x)):\n",
    "    x[i]=x[i]+width\n",
    "b5 = plt.bar(x, svm, width=width, label='SVM')\n",
    "\n",
    "plt.legend(handles=[b1,b2,b3,b4,b5],loc=\"lower center\",ncol=5)\n",
    "plt.ylabel(\"Performance metric(%)\",color = 'b')\n",
    "plt.title(\"The best testing performance\")\n",
    "plt.savefig('The best testing performance.jpg')\n",
    "plt.show"
   ]
  },
  {
   "cell_type": "markdown",
   "id": "6417b14a",
   "metadata": {},
   "source": [
    "### The best cross-validaton testing performance"
   ]
  },
  {
   "cell_type": "code",
   "execution_count": 129,
   "id": "0d781a24",
   "metadata": {
    "scrolled": true
   },
   "outputs": [
    {
     "data": {
      "text/plain": [
       "<function matplotlib.pyplot.show(close=None, block=None)>"
      ]
     },
     "execution_count": 129,
     "metadata": {},
     "output_type": "execute_result"
    },
    {
     "data": {
      "image/png": "[encoded data removed]",
      "text/plain": [
       "<Figure size 432x288 with 1 Axes>"
      ]
     },
     "metadata": {
      "needs_background": "light"
     },
     "output_type": "display_data"
    }
   ],
   "source": [
    "x = list(range(len(labels)))\n",
    "total_width, n = 0.5, 4\n",
    "width = total_width / n\n",
    "\n",
    "c1 = plt.bar(x, dt_cv, width=width, label='DT', tick_label=labels)\n",
    "for i in range(len(x)):\n",
    "    x[i]=x[i]+width\n",
    "c2 = plt.bar(x, lr_cv, width=width, label='LR')\n",
    "for i in range(len(x)):\n",
    "    x[i]=x[i]+width\n",
    "c3 = plt.bar(x, knn_cv, width=width, label='KNN')\n",
    "for i in range(len(x)):\n",
    "    x[i]=x[i]+width\n",
    "c4 = plt.bar(x, rf_cv, width=width, label='RF')\n",
    "for i in range(len(x)):\n",
    "    x[i]=x[i]+width\n",
    "c5 = plt.bar(x, svm_cv, width=width, label='SVM')\n",
    "\n",
    "plt.legend(handles=[c1,c2,c3,c4,c5],loc=\"lower center\",ncol=5)\n",
    "plt.ylabel(\"Performance metric(%)\",color = 'b')\n",
    "plt.title(\"The best cross-validation performance\")\n",
    "plt.savefig('The best cross-validation performance.jpg')\n",
    "plt.show"
   ]
  },
  {
   "cell_type": "markdown",
   "id": "dda9f1d0",
   "metadata": {},
   "source": [
    "#### Display the four standard CV testing results in RF model"
   ]
  },
  {
   "cell_type": "code",
   "execution_count": 148,
   "id": "7fa00b95",
   "metadata": {},
   "outputs": [
    {
     "data": {
      "text/plain": [
       "Precision    0.849259\n",
       "Recall       0.840958\n",
       "F1           0.838558\n",
       "Accuracy     0.840958\n",
       "dtype: float64"
      ]
     },
     "execution_count": 148,
     "metadata": {},
     "output_type": "execute_result"
    }
   ],
   "source": [
    "pd.Series(rf_cv, index = ['Precision','Recall','F1','Accuracy'])"
   ]
  },
  {
   "cell_type": "markdown",
   "id": "bfb94793",
   "metadata": {},
   "source": [
    "#### Display the four standard CV testing results in KNN model"
   ]
  },
  {
   "cell_type": "code",
   "execution_count": 150,
   "id": "2e69746c",
   "metadata": {},
   "outputs": [
    {
     "data": {
      "text/plain": [
       "Precision    0.701398\n",
       "Recall       0.368354\n",
       "F1           0.214595\n",
       "Accuracy     0.368354\n",
       "dtype: float64"
      ]
     },
     "execution_count": 150,
     "metadata": {},
     "output_type": "execute_result"
    }
   ],
   "source": [
    "pd.Series(knn_cv, index = ['Precision','Recall','F1','Accuracy'])"
   ]
  },
  {
   "cell_type": "markdown",
   "id": "ebd9ff9c",
   "metadata": {},
   "source": [
    "**Mark**: On average, the RF model and the SVM model have held the highest cross-validation average and the normal testing average performance respectively. Thus, the cross-validation case reached to the double of the normal testing case plausibility. For cross-validation testing results, the RF model has reached the accuracy of 84.09%, precision of 84.92%, recall of 84.09%, and F1-score of 83.85% using the unigram feature extraction method. And the KNN model reported the lowest performance results both in cross-validation testing method and normal testing method (for the cross validaton case, the accuracy of 36.83%, precision of 70.13%, recall of 36.83%, and F1-score of 21.45%)."
   ]
  },
  {
   "cell_type": "markdown",
   "id": "f074abda",
   "metadata": {},
   "source": [
    "# Conclusion\n",
    "### In TF-IDF feature extraction method, the experimental results show that the RF classifer model using the unigram feature extraction method has achieved the best performance in this work."
   ]
  }
 ],
 "metadata": {
  "kernelspec": {
   "display_name": "Python 3 (ipykernel)",
   "language": "python",
   "name": "python3"
  },
  "language_info": {
   "codemirror_mode": {
    "name": "ipython",
    "version": 3
   },
   "file_extension": ".py",
   "mimetype": "text/x-python",
   "name": "python",
   "nbconvert_exporter": "python",
   "pygments_lexer": "ipython3",
   "version": "3.9.7"
  }
 },
 "nbformat": 4,
 "nbformat_minor": 5
}
